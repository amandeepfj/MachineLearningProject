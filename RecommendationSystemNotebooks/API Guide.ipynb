{
 "cells": [
  {
   "cell_type": "markdown",
   "metadata": {},
   "source": [
    "# API Examples and Reference"
   ]
  },
  {
   "cell_type": "markdown",
   "metadata": {},
   "source": [
    "*NOTE - sometimes the ngrok fails to tunnel the request if the continuos requests are made, please re-run the cell in case you get any such error."
   ]
  },
  {
   "cell_type": "code",
   "execution_count": 44,
   "metadata": {},
   "outputs": [],
   "source": [
    "import requests\n",
    "import json\n",
    "# URL which is has REST API\n",
    "url = 'http://ed842e94.ngrok.io/get_similar_users'"
   ]
  },
  {
   "cell_type": "code",
   "execution_count": 41,
   "metadata": {},
   "outputs": [
    {
     "data": {
      "text/plain": [
       "u'\"[\\\\\"2616\\\\\", \\\\\"8095\\\\\", \\\\\"4618\\\\\", \\\\\"2307\\\\\"]\"'"
      ]
     },
     "execution_count": 41,
     "metadata": {},
     "output_type": "execute_result"
    }
   ],
   "source": [
    "# Basic API call\n",
    "json_ = {\n",
    "  \"user_handle\": '8887'\n",
    "}\n",
    "response = requests.post(url, json=json_)\n",
    "response.json()\n",
    "#by default 4 similar users are returned."
   ]
  },
  {
   "cell_type": "code",
   "execution_count": 42,
   "metadata": {},
   "outputs": [
    {
     "data": {
      "text/plain": [
       "u'\"[\\\\\"2616\\\\\", \\\\\"8095\\\\\"]\"'"
      ]
     },
     "execution_count": 42,
     "metadata": {},
     "output_type": "execute_result"
    }
   ],
   "source": [
    "json_ = {\n",
    "         'user_handle': '8887', # user_handle of the user of whom we are going to get similar users of.\n",
    "         'bSummary' : False, # bSummary = True returns detailed summary of similar and current user. \n",
    "         'n_top_users' : 2,  # Specify number of top similar users to get.\n",
    "         # Weights related to each score.\n",
    "         # A = Assessment, I = Interest, CVT = Course View Tag, CV = Course View, CL = Course Level\n",
    "        ######### IF YOU CHANGE WEIGHTS ALL FURTHUR REQUESTS WILL CONSIDER THIS WEIGHTS, DON'T FORGET TO RESET #####\n",
    "         'score_weights' : {'A': 10, 'I': 12, 'CVT': 1, 'CV': 1, 'CL': 1}\n",
    "        }\n",
    "\n",
    "response = requests.post(url, json=json_)\n",
    "response.json()"
   ]
  },
  {
   "cell_type": "code",
   "execution_count": 46,
   "metadata": {
    "scrolled": true
   },
   "outputs": [
    {
     "name": "stdout",
     "output_type": "stream",
     "text": [
      "\"{\\n \\\"__weights_used\\\": {\\n  \\\"I\\\": 12\\n }, \\n \\\"current_user_handle\\\": \\\"1334\\\", \\n \\\"current_user_summary\\\": {\\n  \\\"assessments\\\": [], \\n  \\\"courses_taken\\\": [], \\n  \\\"interest\\\": [\\n   {\\n    \\\"microsoft-azure\\\": {\\n     \\\"date_followed\\\": \\\"2017-08-02 20:01:30\\\"\\n    }\\n   }, \\n   {\\n    \\\"windows-azure\\\": {\\n     \\\"date_followed\\\": \\\"2017-08-02 20:01:30\\\"\\n    }\\n   }, \\n   {\\n    \\\"data-warehousing\\\": {\\n     \\\"date_followed\\\": \\\"2017-08-02 20:01:30\\\"\\n    }\\n   }, \\n   {\\n    \\\"cloud-computing\\\": {\\n     \\\"date_followed\\\": \\\"2017-08-02 20:01:30\\\"\\n    }\\n   }, \\n   {\\n    \\\"secure-by-design\\\": {\\n     \\\"date_followed\\\": \\\"2017-08-02 20:01:30\\\"\\n    }\\n   }, \\n   {\\n    \\\"endpoint-management\\\": {\\n     \\\"date_followed\\\": \\\"2017-08-02 20:01:30\\\"\\n    }\\n   }\\n  ]\\n }, \\n \\\"user_0\\\": {\\n  \\\"handle\\\": \\\"3616\\\", \\n  \\\"scores\\\": \\\"weighted_AVG_interest    10.976655\\\\nAVG_OF_ALL                1.000000\\\\nName: 1, dtype: float64\\\", \\n  \\\"summary\\\": {\\n   \\\"assessments\\\": [], \\n   \\\"courses_taken\\\": [], \\n   \\\"interest\\\": [\\n    {\\n     \\\"mongodb\\\": {\\n      \\\"date_followed\\\": \\\"2017-07-10 02:50:14\\\"\\n     }\\n    }, \\n    {\\n     \\\"soft-skills\\\": {\\n      \\\"date_followed\\\": \\\"2017-07-10 02:50:14\\\"\\n     }\\n    }, \\n    {\\n     \\\"express\\\": {\\n      \\\"date_followed\\\": \\\"2017-07-10 02:50:14\\\"\\n     }\\n    }, \\n    {\\n     \\\"3d-modeling\\\": {\\n      \\\"date_followed\\\": \\\"2017-11-11 00:25:46\\\"\\n     }\\n    }, \\n    {\\n     \\\"3d-sculpting\\\": {\\n      \\\"date_followed\\\": \\\"2017-11-11 00:25:46\\\"\\n     }\\n    }\\n   ]\\n  }\\n }, \\n \\\"user_1\\\": {\\n  \\\"handle\\\": \\\"7538\\\", \\n  \\\"scores\\\": \\\"weighted_AVG_interest    9.972892\\\\nAVG_OF_ALL               0.928487\\\\nName: 0, dtype: float64\\\", \\n  \\\"summary\\\": {\\n   \\\"assessments\\\": [], \\n   \\\"courses_taken\\\": [\\n    {\\n     \\\"introduction-to-sql\\\": {\\n      \\\"level\\\": \\\"Beginner\\\", \\n      \\\"view_time_seconds\\\": \\\"11363\\\"\\n     }\\n    }, \\n    {\\n     \\\"introduction-to-sql\\\": {\\n      \\\"level\\\": \\\"Beginner\\\", \\n      \\\"view_time_seconds\\\": \\\"11317\\\"\\n     }\\n    }, \\n    {\\n     \\\"introduction-to-sql\\\": {\\n      \\\"level\\\": \\\"Beginner\\\", \\n      \\\"view_time_seconds\\\": \\\"2964\\\"\\n     }\\n    }, \\n    {\\n     \\\"data-science-big-picture\\\": {\\n      \\\"level\\\": \\\"Beginner\\\", \\n      \\\"view_time_seconds\\\": \\\"4318\\\"\\n     }\\n    }, \\n    {\\n     \\\"data-science-big-picture\\\": {\\n      \\\"level\\\": \\\"Beginner\\\", \\n      \\\"view_time_seconds\\\": \\\"3920\\\"\\n     }\\n    }, \\n    {\\n     \\\"introduction-to-sql\\\": {\\n      \\\"level\\\": \\\"Beginner\\\", \\n      \\\"view_time_seconds\\\": \\\"12088\\\"\\n     }\\n    }, \\n    {\\n     \\\"r-data-science\\\": {\\n      \\\"level\\\": \\\"Beginner\\\", \\n      \\\"view_time_seconds\\\": \\\"846\\\"\\n     }\\n    }, \\n    {\\n     \\\"r-data-visualization-beginner\\\": {\\n      \\\"level\\\": \\\"Beginner\\\", \\n      \\\"view_time_seconds\\\": \\\"96\\\"\\n     }\\n    }, \\n    {\\n     \\\"r-multivariate-data-visualization\\\": {\\n      \\\"level\\\": \\\"Intermediate\\\", \\n      \\\"view_time_seconds\\\": \\\"11437\\\"\\n     }\\n    }, \\n    {\\n     \\\"r-data-science\\\": {\\n      \\\"level\\\": \\\"Beginner\\\", \\n      \\\"view_time_seconds\\\": \\\"26\\\"\\n     }\\n    }\\n   ], \\n   \\\"interest\\\": [\\n    {\\n     \\\"linq\\\": {\\n      \\\"date_followed\\\": \\\"2017-07-02 20:21:14\\\"\\n     }\\n    }, \\n    {\\n     \\\"sql\\\": {\\n      \\\"date_followed\\\": \\\"2017-07-02 20:21:14\\\"\\n     }\\n    }, \\n    {\\n     \\\"devops\\\": {\\n      \\\"date_followed\\\": \\\"2017-07-02 20:21:14\\\"\\n     }\\n    }, \\n    {\\n     \\\"machine-learning\\\": {\\n      \\\"date_followed\\\": \\\"2017-07-02 20:21:14\\\"\\n     }\\n    }, \\n    {\\n     \\\"html\\\": {\\n      \\\"date_followed\\\": \\\"2017-07-02 20:21:14\\\"\\n     }\\n    }, \\n    {\\n     \\\"ssis\\\": {\\n      \\\"date_followed\\\": \\\"2017-07-06 12:09:08\\\"\\n     }\\n    }, \\n    {\\n     \\\"mobile-design\\\": {\\n      \\\"date_followed\\\": \\\"2017-08-28 05:10:39\\\"\\n     }\\n    }, \\n    {\\n     \\\"ui-design\\\": {\\n      \\\"date_followed\\\": \\\"2017-08-28 05:10:39\\\"\\n     }\\n    }\\n   ]\\n  }\\n }\\n}\"\n"
     ]
    }
   ],
   "source": [
    "json_ = {\n",
    "         'user_handle': '1334', # user_handle of the user of whom we are going to get similar users of.\n",
    "         'bSummary' : True, # bSummary = True returns detailed summary of similar and current user. \n",
    "         'n_top_users' : 2,  # Specify number of top similar users to get.\n",
    "        }\n",
    "\n",
    "response = requests.post(url, json=json_)\n",
    "response.json()\n",
    "print(json.dumps(response.json(), indent=4, sort_keys=True))\n",
    "#The similar users are encoded as user_0, user_1, user_2,...so on in the JSON.\n",
    "# AVG_OF_ALL gives the normalized overall similarity measure. Search by using search of browser to find the elements in JSON"
   ]
  },
  {
   "cell_type": "code",
   "execution_count": 47,
   "metadata": {},
   "outputs": [
    {
     "data": {
      "text/plain": [
       "u'\"[\\\\\"8884\\\\\", \\\\\"6031\\\\\", \\\\\"361\\\\\", \\\\\"3793\\\\\"]\"'"
      ]
     },
     "execution_count": 47,
     "metadata": {},
     "output_type": "execute_result"
    }
   ],
   "source": [
    "json_ = {\n",
    "         'user_handle': '223'\n",
    "        }\n",
    "\n",
    "response = requests.post(url, json=json_)\n",
    "response.json()"
   ]
  },
  {
   "cell_type": "code",
   "execution_count": 48,
   "metadata": {},
   "outputs": [
    {
     "data": {
      "text/plain": [
       "{u'WARN : Message': u'User not found in database!!!!'}"
      ]
     },
     "execution_count": 48,
     "metadata": {},
     "output_type": "execute_result"
    }
   ],
   "source": [
    "json_ = {\n",
    "         'user_handle': '2aa23'\n",
    "        }\n",
    "\n",
    "response = requests.post(url, json=json_)\n",
    "response.json()"
   ]
  },
  {
   "cell_type": "code",
   "execution_count": 50,
   "metadata": {},
   "outputs": [
    {
     "data": {
      "text/plain": [
       "{u'trace': u'Traceback (most recent call last):\\n  File \"C:/Users/Administrator/PycharmProjects/MachineLearningProject/src/server.py\", line 39, in predict\\n    return jsonify({\\'Error : user_handle not passed!!!\\'})\\n  File \"C:\\\\Python27\\\\lib\\\\site-packages\\\\flask\\\\json\\\\__init__.py\", line 321, in jsonify\\n    dumps(data, indent=indent, separators=separators) + \\'\\\\n\\',\\n  File \"C:\\\\Python27\\\\lib\\\\site-packages\\\\flask\\\\json\\\\__init__.py\", line 179, in dumps\\n    rv = _json.dumps(obj, **kwargs)\\n  File \"C:\\\\Python27\\\\lib\\\\json\\\\__init__.py\", line 251, in dumps\\n    sort_keys=sort_keys, **kw).encode(obj)\\n  File \"C:\\\\Python27\\\\lib\\\\json\\\\encoder.py\", line 209, in encode\\n    chunks = list(chunks)\\n  File \"C:\\\\Python27\\\\lib\\\\json\\\\encoder.py\", line 442, in _iterencode\\n    o = _default(o)\\n  File \"C:\\\\Python27\\\\lib\\\\site-packages\\\\flask\\\\json\\\\__init__.py\", line 81, in default\\n    return _json.JSONEncoder.default(self, o)\\n  File \"C:\\\\Python27\\\\lib\\\\json\\\\encoder.py\", line 184, in default\\n    raise TypeError(repr(o) + \" is not JSON serializable\")\\nTypeError: set([\\'Error : user_handle not passed!!!\\']) is not JSON serializable\\n'}"
      ]
     },
     "execution_count": 50,
     "metadata": {},
     "output_type": "execute_result"
    }
   ],
   "source": [
    "# The user_handle is must. it cannot be blank!\n",
    "# Throws Error : user_handle not passed!!!\n",
    "json_ = {\n",
    "         \n",
    "        }\n",
    "\n",
    "response = requests.post(url, json=json_)\n",
    "response.json()"
   ]
  }
 ],
 "metadata": {
  "kernelspec": {
   "display_name": "Python 2",
   "language": "python",
   "name": "python2"
  },
  "language_info": {
   "codemirror_mode": {
    "name": "ipython",
    "version": 2
   },
   "file_extension": ".py",
   "mimetype": "text/x-python",
   "name": "python",
   "nbconvert_exporter": "python",
   "pygments_lexer": "ipython2",
   "version": "2.7.15"
  }
 },
 "nbformat": 4,
 "nbformat_minor": 2
}

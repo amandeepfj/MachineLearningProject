{
 "cells": [
  {
   "cell_type": "markdown",
   "metadata": {},
   "source": [
    "## Data Understanding Python Notebook.\n",
    "\n"
   ]
  },
  {
   "cell_type": "code",
   "execution_count": 1,
   "metadata": {},
   "outputs": [],
   "source": [
    "# Read data from sqllite database which has all the csv files dumped earlier.\n",
    "import sqlite3\n",
    "import pandas as pd\n",
    "conn = sqlite3.connect(\"C:\\Users\\Amandeep\\pluralsight.db\")\n",
    "\n",
    "user_assessment_scores = pd.read_sql_query(\"select * from user_assessment_scores;\", conn)\n",
    "user_course_views = pd.read_sql_query(\"select * from user_course_views;\", conn)\n",
    "course_tags = pd.read_sql_query(\"select * from course_tags;\", conn)\n",
    "user_interests = pd.read_sql_query(\"select * from user_interests;\", conn)\n",
    "\n",
    "# Close connection of sqlite\n",
    "conn.close()"
   ]
  },
  {
   "cell_type": "code",
   "execution_count": 2,
   "metadata": {},
   "outputs": [
    {
     "name": "stdout",
     "output_type": "stream",
     "text": [
      "User Assessments : Dims = (6571, 4)\n"
     ]
    },
    {
     "data": {
      "text/html": [
       "<div>\n",
       "<style scoped>\n",
       "    .dataframe tbody tr th:only-of-type {\n",
       "        vertical-align: middle;\n",
       "    }\n",
       "\n",
       "    .dataframe tbody tr th {\n",
       "        vertical-align: top;\n",
       "    }\n",
       "\n",
       "    .dataframe thead th {\n",
       "        text-align: right;\n",
       "    }\n",
       "</style>\n",
       "<table border=\"1\" class=\"dataframe\">\n",
       "  <thead>\n",
       "    <tr style=\"text-align: right;\">\n",
       "      <th></th>\n",
       "      <th>user_handle</th>\n",
       "      <th>assessment_tag</th>\n",
       "      <th>user_assessment_date</th>\n",
       "      <th>user_assessment_score</th>\n",
       "    </tr>\n",
       "  </thead>\n",
       "  <tbody>\n",
       "    <tr>\n",
       "      <th>0</th>\n",
       "      <td>7487</td>\n",
       "      <td>angular-js</td>\n",
       "      <td>2017-08-11 19:03:38</td>\n",
       "      <td>134</td>\n",
       "    </tr>\n",
       "    <tr>\n",
       "      <th>1</th>\n",
       "      <td>7487</td>\n",
       "      <td>css</td>\n",
       "      <td>2017-08-11 20:09:56</td>\n",
       "      <td>38</td>\n",
       "    </tr>\n",
       "    <tr>\n",
       "      <th>2</th>\n",
       "      <td>7487</td>\n",
       "      <td>html5</td>\n",
       "      <td>2017-07-31 18:59:37</td>\n",
       "      <td>84</td>\n",
       "    </tr>\n",
       "    <tr>\n",
       "      <th>3</th>\n",
       "      <td>7487</td>\n",
       "      <td>java</td>\n",
       "      <td>2017-07-31 18:49:27</td>\n",
       "      <td>149</td>\n",
       "    </tr>\n",
       "  </tbody>\n",
       "</table>\n",
       "</div>"
      ],
      "text/plain": [
       "  user_handle assessment_tag user_assessment_date user_assessment_score\n",
       "0        7487     angular-js  2017-08-11 19:03:38                   134\n",
       "1        7487            css  2017-08-11 20:09:56                    38\n",
       "2        7487          html5  2017-07-31 18:59:37                    84\n",
       "3        7487           java  2017-07-31 18:49:27                   149"
      ]
     },
     "metadata": {},
     "output_type": "display_data"
    },
    {
     "data": {
      "text/html": [
       "<div>\n",
       "<style scoped>\n",
       "    .dataframe tbody tr th:only-of-type {\n",
       "        vertical-align: middle;\n",
       "    }\n",
       "\n",
       "    .dataframe tbody tr th {\n",
       "        vertical-align: top;\n",
       "    }\n",
       "\n",
       "    .dataframe thead th {\n",
       "        text-align: right;\n",
       "    }\n",
       "</style>\n",
       "<table border=\"1\" class=\"dataframe\">\n",
       "  <thead>\n",
       "    <tr style=\"text-align: right;\">\n",
       "      <th></th>\n",
       "      <th>user_handle</th>\n",
       "      <th>assessment_tag</th>\n",
       "      <th>user_assessment_date</th>\n",
       "      <th>user_assessment_score</th>\n",
       "    </tr>\n",
       "  </thead>\n",
       "  <tbody>\n",
       "    <tr>\n",
       "      <th>6567</th>\n",
       "      <td>8887</td>\n",
       "      <td>angular-js</td>\n",
       "      <td>2016-09-30 22:30:48</td>\n",
       "      <td>221</td>\n",
       "    </tr>\n",
       "    <tr>\n",
       "      <th>6568</th>\n",
       "      <td>8887</td>\n",
       "      <td>docker</td>\n",
       "      <td>2017-03-24 17:55:06</td>\n",
       "      <td>148</td>\n",
       "    </tr>\n",
       "    <tr>\n",
       "      <th>6569</th>\n",
       "      <td>8887</td>\n",
       "      <td>html5</td>\n",
       "      <td>2017-02-10 16:38:53</td>\n",
       "      <td>241</td>\n",
       "    </tr>\n",
       "    <tr>\n",
       "      <th>6570</th>\n",
       "      <td>4440</td>\n",
       "      <td>c-sharp</td>\n",
       "      <td>2017-09-04 15:58:48</td>\n",
       "      <td>126</td>\n",
       "    </tr>\n",
       "  </tbody>\n",
       "</table>\n",
       "</div>"
      ],
      "text/plain": [
       "     user_handle assessment_tag user_assessment_date user_assessment_score\n",
       "6567        8887     angular-js  2016-09-30 22:30:48                   221\n",
       "6568        8887         docker  2017-03-24 17:55:06                   148\n",
       "6569        8887          html5  2017-02-10 16:38:53                   241\n",
       "6570        4440        c-sharp  2017-09-04 15:58:48                   126"
      ]
     },
     "metadata": {},
     "output_type": "display_data"
    },
    {
     "name": "stdout",
     "output_type": "stream",
     "text": [
      "\n",
      "User Course Views : Dims = (249238, 6)\n"
     ]
    },
    {
     "data": {
      "text/html": [
       "<div>\n",
       "<style scoped>\n",
       "    .dataframe tbody tr th:only-of-type {\n",
       "        vertical-align: middle;\n",
       "    }\n",
       "\n",
       "    .dataframe tbody tr th {\n",
       "        vertical-align: top;\n",
       "    }\n",
       "\n",
       "    .dataframe thead th {\n",
       "        text-align: right;\n",
       "    }\n",
       "</style>\n",
       "<table border=\"1\" class=\"dataframe\">\n",
       "  <thead>\n",
       "    <tr style=\"text-align: right;\">\n",
       "      <th></th>\n",
       "      <th>user_handle</th>\n",
       "      <th>view_date</th>\n",
       "      <th>course_id</th>\n",
       "      <th>author_handle</th>\n",
       "      <th>level</th>\n",
       "      <th>view_time_seconds</th>\n",
       "    </tr>\n",
       "  </thead>\n",
       "  <tbody>\n",
       "    <tr>\n",
       "      <th>0</th>\n",
       "      <td>1</td>\n",
       "      <td>2017-06-27</td>\n",
       "      <td>cpt-sp2010-web-designers-branding-intro</td>\n",
       "      <td>875</td>\n",
       "      <td>Beginner</td>\n",
       "      <td>3786</td>\n",
       "    </tr>\n",
       "    <tr>\n",
       "      <th>1</th>\n",
       "      <td>1</td>\n",
       "      <td>2017-06-28</td>\n",
       "      <td>cpt-sp2010-web-designers-branding-intro</td>\n",
       "      <td>875</td>\n",
       "      <td>Beginner</td>\n",
       "      <td>1098</td>\n",
       "    </tr>\n",
       "    <tr>\n",
       "      <th>2</th>\n",
       "      <td>1</td>\n",
       "      <td>2017-06-28</td>\n",
       "      <td>cpt-sp2010-web-designers-css</td>\n",
       "      <td>875</td>\n",
       "      <td>Intermediate</td>\n",
       "      <td>4406</td>\n",
       "    </tr>\n",
       "    <tr>\n",
       "      <th>3</th>\n",
       "      <td>1</td>\n",
       "      <td>2017-07-27</td>\n",
       "      <td>cpt-sp2010-web-designers-css</td>\n",
       "      <td>875</td>\n",
       "      <td>Intermediate</td>\n",
       "      <td>553</td>\n",
       "    </tr>\n",
       "  </tbody>\n",
       "</table>\n",
       "</div>"
      ],
      "text/plain": [
       "  user_handle   view_date                                course_id  \\\n",
       "0           1  2017-06-27  cpt-sp2010-web-designers-branding-intro   \n",
       "1           1  2017-06-28  cpt-sp2010-web-designers-branding-intro   \n",
       "2           1  2017-06-28             cpt-sp2010-web-designers-css   \n",
       "3           1  2017-07-27             cpt-sp2010-web-designers-css   \n",
       "\n",
       "  author_handle         level view_time_seconds  \n",
       "0           875      Beginner              3786  \n",
       "1           875      Beginner              1098  \n",
       "2           875  Intermediate              4406  \n",
       "3           875  Intermediate               553  "
      ]
     },
     "metadata": {},
     "output_type": "display_data"
    },
    {
     "data": {
      "text/html": [
       "<div>\n",
       "<style scoped>\n",
       "    .dataframe tbody tr th:only-of-type {\n",
       "        vertical-align: middle;\n",
       "    }\n",
       "\n",
       "    .dataframe tbody tr th {\n",
       "        vertical-align: top;\n",
       "    }\n",
       "\n",
       "    .dataframe thead th {\n",
       "        text-align: right;\n",
       "    }\n",
       "</style>\n",
       "<table border=\"1\" class=\"dataframe\">\n",
       "  <thead>\n",
       "    <tr style=\"text-align: right;\">\n",
       "      <th></th>\n",
       "      <th>user_handle</th>\n",
       "      <th>view_date</th>\n",
       "      <th>course_id</th>\n",
       "      <th>author_handle</th>\n",
       "      <th>level</th>\n",
       "      <th>view_time_seconds</th>\n",
       "    </tr>\n",
       "  </thead>\n",
       "  <tbody>\n",
       "    <tr>\n",
       "      <th>249234</th>\n",
       "      <td>9999</td>\n",
       "      <td>2017-10-14</td>\n",
       "      <td>python-getting-started</td>\n",
       "      <td>104</td>\n",
       "      <td>Beginner</td>\n",
       "      <td>1612</td>\n",
       "    </tr>\n",
       "    <tr>\n",
       "      <th>249235</th>\n",
       "      <td>10000</td>\n",
       "      <td>2017-08-18</td>\n",
       "      <td>apex-absolute-beginner-guide-coding-salesforce</td>\n",
       "      <td>229</td>\n",
       "      <td>Beginner</td>\n",
       "      <td>402</td>\n",
       "    </tr>\n",
       "    <tr>\n",
       "      <th>249236</th>\n",
       "      <td>10000</td>\n",
       "      <td>2017-08-21</td>\n",
       "      <td>apex-absolute-beginner-guide-coding-salesforce</td>\n",
       "      <td>229</td>\n",
       "      <td>Beginner</td>\n",
       "      <td>9500</td>\n",
       "    </tr>\n",
       "    <tr>\n",
       "      <th>249237</th>\n",
       "      <td>10000</td>\n",
       "      <td>2017-08-21</td>\n",
       "      <td>apex-fundamental-coding</td>\n",
       "      <td>229</td>\n",
       "      <td>Beginner</td>\n",
       "      <td>1659</td>\n",
       "    </tr>\n",
       "  </tbody>\n",
       "</table>\n",
       "</div>"
      ],
      "text/plain": [
       "       user_handle   view_date  \\\n",
       "249234        9999  2017-10-14   \n",
       "249235       10000  2017-08-18   \n",
       "249236       10000  2017-08-21   \n",
       "249237       10000  2017-08-21   \n",
       "\n",
       "                                             course_id author_handle  \\\n",
       "249234                          python-getting-started           104   \n",
       "249235  apex-absolute-beginner-guide-coding-salesforce           229   \n",
       "249236  apex-absolute-beginner-guide-coding-salesforce           229   \n",
       "249237                         apex-fundamental-coding           229   \n",
       "\n",
       "           level view_time_seconds  \n",
       "249234  Beginner              1612  \n",
       "249235  Beginner               402  \n",
       "249236  Beginner              9500  \n",
       "249237  Beginner              1659  "
      ]
     },
     "metadata": {},
     "output_type": "display_data"
    },
    {
     "name": "stdout",
     "output_type": "stream",
     "text": [
      "\n",
      "Course Tags : Dims = (11337, 2)\n"
     ]
    },
    {
     "data": {
      "text/html": [
       "<div>\n",
       "<style scoped>\n",
       "    .dataframe tbody tr th:only-of-type {\n",
       "        vertical-align: middle;\n",
       "    }\n",
       "\n",
       "    .dataframe tbody tr th {\n",
       "        vertical-align: top;\n",
       "    }\n",
       "\n",
       "    .dataframe thead th {\n",
       "        text-align: right;\n",
       "    }\n",
       "</style>\n",
       "<table border=\"1\" class=\"dataframe\">\n",
       "  <thead>\n",
       "    <tr style=\"text-align: right;\">\n",
       "      <th></th>\n",
       "      <th>course_id</th>\n",
       "      <th>course_tags</th>\n",
       "    </tr>\n",
       "  </thead>\n",
       "  <tbody>\n",
       "    <tr>\n",
       "      <th>0</th>\n",
       "      <td>12-principles-animation-toon-boom-harmony-1475</td>\n",
       "      <td>2d-animation</td>\n",
       "    </tr>\n",
       "    <tr>\n",
       "      <th>1</th>\n",
       "      <td>2d-racing-game-series-unity-5-1312</td>\n",
       "      <td>game-design</td>\n",
       "    </tr>\n",
       "    <tr>\n",
       "      <th>2</th>\n",
       "      <td>2d-racing-games-unity-volume-2-1286</td>\n",
       "      <td>game-art</td>\n",
       "    </tr>\n",
       "    <tr>\n",
       "      <th>3</th>\n",
       "      <td>2d-racing-games-unity-volume-2-1286</td>\n",
       "      <td>digital-painting</td>\n",
       "    </tr>\n",
       "  </tbody>\n",
       "</table>\n",
       "</div>"
      ],
      "text/plain": [
       "                                        course_id       course_tags\n",
       "0  12-principles-animation-toon-boom-harmony-1475      2d-animation\n",
       "1              2d-racing-game-series-unity-5-1312       game-design\n",
       "2             2d-racing-games-unity-volume-2-1286          game-art\n",
       "3             2d-racing-games-unity-volume-2-1286  digital-painting"
      ]
     },
     "metadata": {},
     "output_type": "display_data"
    },
    {
     "data": {
      "text/html": [
       "<div>\n",
       "<style scoped>\n",
       "    .dataframe tbody tr th:only-of-type {\n",
       "        vertical-align: middle;\n",
       "    }\n",
       "\n",
       "    .dataframe tbody tr th {\n",
       "        vertical-align: top;\n",
       "    }\n",
       "\n",
       "    .dataframe thead th {\n",
       "        text-align: right;\n",
       "    }\n",
       "</style>\n",
       "<table border=\"1\" class=\"dataframe\">\n",
       "  <thead>\n",
       "    <tr style=\"text-align: right;\">\n",
       "      <th></th>\n",
       "      <th>course_id</th>\n",
       "      <th>course_tags</th>\n",
       "    </tr>\n",
       "  </thead>\n",
       "  <tbody>\n",
       "    <tr>\n",
       "      <th>11333</th>\n",
       "      <td>z-os-mainframe-introduction</td>\n",
       "      <td>mainframe</td>\n",
       "    </tr>\n",
       "    <tr>\n",
       "      <th>11334</th>\n",
       "      <td>z-os-tso-ispf-environment-introduction</td>\n",
       "      <td>mainframe</td>\n",
       "    </tr>\n",
       "    <tr>\n",
       "      <th>11335</th>\n",
       "      <td>zsphere-modeling-zbrush-3505</td>\n",
       "      <td>3d-modeling</td>\n",
       "    </tr>\n",
       "    <tr>\n",
       "      <th>11336</th>\n",
       "      <td>zsphere-modeling-zbrush-3505</td>\n",
       "      <td>3d-sculpting</td>\n",
       "    </tr>\n",
       "  </tbody>\n",
       "</table>\n",
       "</div>"
      ],
      "text/plain": [
       "                                    course_id   course_tags\n",
       "11333             z-os-mainframe-introduction     mainframe\n",
       "11334  z-os-tso-ispf-environment-introduction     mainframe\n",
       "11335            zsphere-modeling-zbrush-3505   3d-modeling\n",
       "11336            zsphere-modeling-zbrush-3505  3d-sculpting"
      ]
     },
     "metadata": {},
     "output_type": "display_data"
    },
    {
     "name": "stdout",
     "output_type": "stream",
     "text": [
      "\n",
      "User Interests : Dims = (297526, 3)\n"
     ]
    },
    {
     "data": {
      "text/html": [
       "<div>\n",
       "<style scoped>\n",
       "    .dataframe tbody tr th:only-of-type {\n",
       "        vertical-align: middle;\n",
       "    }\n",
       "\n",
       "    .dataframe tbody tr th {\n",
       "        vertical-align: top;\n",
       "    }\n",
       "\n",
       "    .dataframe thead th {\n",
       "        text-align: right;\n",
       "    }\n",
       "</style>\n",
       "<table border=\"1\" class=\"dataframe\">\n",
       "  <thead>\n",
       "    <tr style=\"text-align: right;\">\n",
       "      <th></th>\n",
       "      <th>user_handle</th>\n",
       "      <th>interest_tag</th>\n",
       "      <th>date_followed</th>\n",
       "    </tr>\n",
       "  </thead>\n",
       "  <tbody>\n",
       "    <tr>\n",
       "      <th>0</th>\n",
       "      <td>1</td>\n",
       "      <td>mvc-scaffolding</td>\n",
       "      <td>2017-06-27 16:26:52</td>\n",
       "    </tr>\n",
       "    <tr>\n",
       "      <th>1</th>\n",
       "      <td>1</td>\n",
       "      <td>mvc2</td>\n",
       "      <td>2017-06-27 16:26:52</td>\n",
       "    </tr>\n",
       "    <tr>\n",
       "      <th>2</th>\n",
       "      <td>1</td>\n",
       "      <td>mvc-html-helpers</td>\n",
       "      <td>2017-06-27 16:26:52</td>\n",
       "    </tr>\n",
       "    <tr>\n",
       "      <th>3</th>\n",
       "      <td>1</td>\n",
       "      <td>mvc4-ioc</td>\n",
       "      <td>2017-06-27 16:26:52</td>\n",
       "    </tr>\n",
       "  </tbody>\n",
       "</table>\n",
       "</div>"
      ],
      "text/plain": [
       "  user_handle      interest_tag        date_followed\n",
       "0           1   mvc-scaffolding  2017-06-27 16:26:52\n",
       "1           1              mvc2  2017-06-27 16:26:52\n",
       "2           1  mvc-html-helpers  2017-06-27 16:26:52\n",
       "3           1          mvc4-ioc  2017-06-27 16:26:52"
      ]
     },
     "metadata": {},
     "output_type": "display_data"
    },
    {
     "data": {
      "text/html": [
       "<div>\n",
       "<style scoped>\n",
       "    .dataframe tbody tr th:only-of-type {\n",
       "        vertical-align: middle;\n",
       "    }\n",
       "\n",
       "    .dataframe tbody tr th {\n",
       "        vertical-align: top;\n",
       "    }\n",
       "\n",
       "    .dataframe thead th {\n",
       "        text-align: right;\n",
       "    }\n",
       "</style>\n",
       "<table border=\"1\" class=\"dataframe\">\n",
       "  <thead>\n",
       "    <tr style=\"text-align: right;\">\n",
       "      <th></th>\n",
       "      <th>user_handle</th>\n",
       "      <th>interest_tag</th>\n",
       "      <th>date_followed</th>\n",
       "    </tr>\n",
       "  </thead>\n",
       "  <tbody>\n",
       "    <tr>\n",
       "      <th>297522</th>\n",
       "      <td>10000</td>\n",
       "      <td>salesforce</td>\n",
       "      <td>2017-08-14 14:56:57</td>\n",
       "    </tr>\n",
       "    <tr>\n",
       "      <th>297523</th>\n",
       "      <td>10000</td>\n",
       "      <td>sql</td>\n",
       "      <td>2017-08-14 14:56:57</td>\n",
       "    </tr>\n",
       "    <tr>\n",
       "      <th>297524</th>\n",
       "      <td>10000</td>\n",
       "      <td>java</td>\n",
       "      <td>2017-08-14 14:56:57</td>\n",
       "    </tr>\n",
       "    <tr>\n",
       "      <th>297525</th>\n",
       "      <td>10000</td>\n",
       "      <td>c#</td>\n",
       "      <td>2017-08-14 14:56:57</td>\n",
       "    </tr>\n",
       "  </tbody>\n",
       "</table>\n",
       "</div>"
      ],
      "text/plain": [
       "       user_handle interest_tag        date_followed\n",
       "297522       10000   salesforce  2017-08-14 14:56:57\n",
       "297523       10000          sql  2017-08-14 14:56:57\n",
       "297524       10000         java  2017-08-14 14:56:57\n",
       "297525       10000           c#  2017-08-14 14:56:57"
      ]
     },
     "metadata": {},
     "output_type": "display_data"
    }
   ],
   "source": [
    "from IPython.display import display, HTML\n",
    "\n",
    "print(\"User Assessments : Dims = \" + str(user_assessment_scores.shape))\n",
    "display(user_assessment_scores.head(4))\n",
    "display(user_assessment_scores.tail(4))\n",
    "\n",
    "print(\"\\nUser Course Views : Dims = \" + str(user_course_views.shape))\n",
    "display(user_course_views.head(4))\n",
    "display(user_course_views.tail(4))\n",
    "\n",
    "print(\"\\nCourse Tags : Dims = \" + str(course_tags.shape))\n",
    "display(course_tags.head(4))\n",
    "display(course_tags.tail(4))\n",
    "\n",
    "print(\"\\nUser Interests : Dims = \" + str(user_interests.shape))\n",
    "display(user_interests.head(4))\n",
    "display(user_interests.tail(4))"
   ]
  },
  {
   "cell_type": "code",
   "execution_count": 36,
   "metadata": {},
   "outputs": [
    {
     "data": {
      "text/plain": [
       "user_handle              object\n",
       "interest_tag             object\n",
       "date_followed    datetime64[ns]\n",
       "dtype: object"
      ]
     },
     "execution_count": 36,
     "metadata": {},
     "output_type": "execute_result"
    }
   ],
   "source": [
    "# Lets update the datatypes.\n",
    "user_assessment_scores['user_assessment_score'] = pd.to_numeric(user_assessment_scores['user_assessment_score'])\n",
    "user_assessment_scores['user_assessment_date'] = pd.to_datetime(user_assessment_scores['user_assessment_score'])\n",
    "\n",
    "user_course_views['view_time_seconds'] = pd.to_numeric(user_course_views['view_time_seconds'])\n",
    "user_course_views['view_date'] = pd.to_datetime(user_course_views['view_date'])\n",
    "\n",
    "user_interests['date_followed'] = pd.to_datetime(user_interests['date_followed'])"
   ]
  },
  {
   "cell_type": "code",
   "execution_count": 3,
   "metadata": {},
   "outputs": [
    {
     "name": "stdout",
     "output_type": "stream",
     "text": [
      "user_handle              0\n",
      "assessment_tag           0\n",
      "user_assessment_date     0\n",
      "user_assessment_score    0\n",
      "dtype: int64\n",
      "user_handle          0\n",
      "view_date            0\n",
      "course_id            0\n",
      "author_handle        0\n",
      "level                0\n",
      "view_time_seconds    0\n",
      "dtype: int64\n",
      "course_id      0\n",
      "course_tags    0\n",
      "dtype: int64\n",
      "user_handle      0\n",
      "interest_tag     0\n",
      "date_followed    0\n",
      "dtype: int64\n"
     ]
    }
   ],
   "source": [
    "print(user_assessment_scores.isna().sum() + user_assessment_scores.isnull().sum())\n",
    "print(user_course_views.isnull().sum() + user_course_views.isna().sum())\n",
    "print(course_tags.isnull().sum() + course_tags.isna().sum())\n",
    "print(user_interests.isnull().sum() + user_interests.isna().sum())"
   ]
  },
  {
   "cell_type": "markdown",
   "metadata": {},
   "source": [
    "There is no missing data, hence we don't have to deal with any missing data cases for now.\n",
    "<br><br>- Lets get rid of duplicate rows from the data. <br>- Next lets see if when we have all the data for users in interest and course view table"
   ]
  },
  {
   "cell_type": "code",
   "execution_count": 4,
   "metadata": {},
   "outputs": [
    {
     "name": "stdout",
     "output_type": "stream",
     "text": [
      "Duplicates in user interest df removed\n"
     ]
    }
   ],
   "source": [
    "# We have some rows which are duplicate. Lets get rid of those rows, \n",
    "# so that we can train our model only once on one training set.\n",
    "\n",
    "if(user_assessment_scores.drop_duplicates().shape[0] != user_assessment_scores.shape[0]):\n",
    "    user_assessment_scores = user_assessment_scores.drop_duplicates()\n",
    "    print(\"Duplicates in user assessment scores df removed\")\n",
    "    \n",
    "if(user_course_views.drop_duplicates().shape[0] != user_course_views.shape[0]):\n",
    "    user_course_views = user_course_views.drop_duplicates()\n",
    "    print(\"Duplicates in user course views df removed\")\n",
    "\n",
    "if(course_tags.drop_duplicates().shape[0] != course_tags.shape[0]):\n",
    "    course_tags = course_tags.drop_duplicates()\n",
    "    print(\"Duplicates in course tags df removed\")\n",
    "\n",
    "if(user_interests.drop_duplicates().shape[0] != user_interests.shape[0]):\n",
    "    user_interests = user_interests.drop_duplicates()\n",
    "    print(\"Duplicates in user interest df removed\")"
   ]
  },
  {
   "cell_type": "markdown",
   "metadata": {},
   "source": [
    "Next let us collect all user ids. We will use this all users df to find users who have missing interests, course views, or assessments!<br> Similarly, we will also find the courses with missing tags but has user course view!"
   ]
  },
  {
   "cell_type": "code",
   "execution_count": 5,
   "metadata": {},
   "outputs": [
    {
     "name": "stdout",
     "output_type": "stream",
     "text": [
      "0    7487\n",
      "6    7407\n",
      "7    3600\n",
      "8    8152\n",
      "9    3637\n",
      "Name: user_handle, dtype: object\n",
      "10000\n"
     ]
    }
   ],
   "source": [
    "unique_users_in_assessment = user_assessment_scores['user_handle'].drop_duplicates()\n",
    "unique_users_in_course_view = user_course_views['user_handle'].drop_duplicates()\n",
    "unique_users_interests = user_interests['user_handle'].drop_duplicates()\n",
    "\n",
    "unique_users = pd.concat([unique_users_in_assessment, unique_users_interests, unique_users_in_course_view]).drop_duplicates()\n",
    "print(unique_users.head())\n",
    "print(unique_users.shape[0])"
   ]
  },
  {
   "cell_type": "code",
   "execution_count": 6,
   "metadata": {},
   "outputs": [
    {
     "name": "stdout",
     "output_type": "stream",
     "text": [
      "0           cpt-sp2010-web-designers-branding-intro\n",
      "2                      cpt-sp2010-web-designers-css\n",
      "4    aws-certified-solutions-architect-professional\n",
      "5              aws-certified-sysops-admin-associate\n",
      "6                     aws-system-admin-fundamentals\n",
      "Name: course_id, dtype: object\n",
      "5942\n"
     ]
    }
   ],
   "source": [
    "unique_courses_in_course_view = user_course_views['course_id'].drop_duplicates()\n",
    "unique_courses_in_course_tags = course_tags['course_id'].drop_duplicates()\n",
    "unique_courses = pd.concat([unique_courses_in_course_view, unique_courses_in_course_tags]).drop_duplicates()\n",
    "print(unique_courses.head())\n",
    "print(unique_courses.shape[0])"
   ]
  },
  {
   "cell_type": "markdown",
   "metadata": {},
   "source": [
    "We have found that there are 10000 users and 5942 courses in the system. Lets also grab unique course tags, interest tags, and assessment tags."
   ]
  },
  {
   "cell_type": "code",
   "execution_count": 7,
   "metadata": {},
   "outputs": [
    {
     "name": "stdout",
     "output_type": "stream",
     "text": [
      "0        2d-animation\n",
      "1         game-design\n",
      "2            game-art\n",
      "3    digital-painting\n",
      "4       image-editing\n",
      "Name: course_tags, dtype: object\n",
      "999\n",
      "0    angular-js\n",
      "1           css\n",
      "2         html5\n",
      "3          java\n",
      "4    javascript\n",
      "Name: assessment_tag, dtype: object\n",
      "54\n",
      "0     mvc-scaffolding\n",
      "1                mvc2\n",
      "2    mvc-html-helpers\n",
      "3            mvc4-ioc\n",
      "4         mvc-testing\n",
      "Name: interest_tag, dtype: object\n",
      "748\n",
      "Total number of tags : 1191\n"
     ]
    }
   ],
   "source": [
    "unqiue_course_tags = course_tags['course_tags'].drop_duplicates()\n",
    "print(unqiue_course_tags.head())\n",
    "print(unqiue_course_tags.shape[0])\n",
    "\n",
    "unqiue_assessment_tags = user_assessment_scores['assessment_tag'].drop_duplicates()\n",
    "print(unqiue_assessment_tags.head())\n",
    "print(unqiue_assessment_tags.shape[0])\n",
    "\n",
    "unique_interest_tags = user_interests['interest_tag'].drop_duplicates()\n",
    "print(unique_interest_tags.head())\n",
    "print(unique_interest_tags.shape[0])\n",
    "\n",
    "all_tags = pd.concat([unqiue_course_tags, unqiue_assessment_tags, unique_interest_tags]).drop_duplicates()\n",
    "print(\"Total number of tags : \" + str(all_tags.shape[0]))"
   ]
  },
  {
   "cell_type": "markdown",
   "metadata": {},
   "source": [
    "Results show that we have 999 unique course tags, 54 assessment tags, and 748 interest tags! The total tags are 1191 which means we have some tags common."
   ]
  },
  {
   "cell_type": "code",
   "execution_count": 10,
   "metadata": {},
   "outputs": [
    {
     "data": {
      "text/plain": [
       "user_handle              object\n",
       "assessment_tag           object\n",
       "user_assessment_date     object\n",
       "user_assessment_score    object\n",
       "dtype: object"
      ]
     },
     "execution_count": 10,
     "metadata": {},
     "output_type": "execute_result"
    }
   ],
   "source": [
    "import matplotlib.pyplot as plt\n",
    "import seaborn as sns\n",
    "\n",
    "%matplotlib inline\n",
    "sns.set_style('whitegrid')\n",
    "plt.rcParams['patch.force_edgecolor']=True\n",
    "user_assessment_scores.dtypes"
   ]
  },
  {
   "cell_type": "code",
   "execution_count": 22,
   "metadata": {},
   "outputs": [
    {
     "data": {
      "text/plain": [
       "<matplotlib.axes._subplots.AxesSubplot at 0x24cb7f28>"
      ]
     },
     "execution_count": 22,
     "metadata": {},
     "output_type": "execute_result"
    },
    {
     "data": {
      "image/png": "[encoded data removed]",
      "text/plain": [
       "<Figure size 432x288 with 1 Axes>"
      ]
     },
     "metadata": {},
     "output_type": "display_data"
    }
   ],
   "source": [
    "# Plot the assessment scores\n",
    "sns.distplot(user_assessment_scores['user_assessment_score'].dropna())"
   ]
  },
  {
   "cell_type": "code",
   "execution_count": null,
   "metadata": {},
   "outputs": [],
   "source": [
    "# pick up tomorrow ......"
   ]
  }
 ],
 "metadata": {
  "kernelspec": {
   "display_name": "Python 2",
   "language": "python",
   "name": "python2"
  },
  "language_info": {
   "codemirror_mode": {
    "name": "ipython",
    "version": 2
   },
   "file_extension": ".py",
   "mimetype": "text/x-python",
   "name": "python",
   "nbconvert_exporter": "python",
   "pygments_lexer": "ipython2",
   "version": "2.7.15"
  }
 },
 "nbformat": 4,
 "nbformat_minor": 1
}

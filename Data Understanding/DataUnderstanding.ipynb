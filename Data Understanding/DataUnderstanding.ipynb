{
 "cells": [
  {
   "cell_type": "markdown",
   "metadata": {},
   "source": [
    "## Data Understanding and Basic Modeling Python Notebook.\n",
    "\n"
   ]
  },
  {
   "cell_type": "markdown",
   "metadata": {},
   "source": [
    "First thing we will do is to load and explore the data.\n",
    "<br> - The data is loaded from SQLite."
   ]
  },
  {
   "cell_type": "code",
   "execution_count": 38,
   "metadata": {},
   "outputs": [],
   "source": [
    "# Read data from sqllite database which has all the csv files dumped earlier.\n",
    "import sqlite3\n",
    "import pandas as pd\n",
    "import numpy as np\n",
    "conn = sqlite3.connect(\"C:\\Users\\Amandeep\\pluralsight.db\")\n",
    "\n",
    "user_assessment_scores = pd.read_sql_query(\"select * from user_assessment_scores;\", conn)\n",
    "user_course_views = pd.read_sql_query(\"select * from user_course_views;\", conn)\n",
    "course_tags = pd.read_sql_query(\"select * from course_tags;\", conn)\n",
    "user_interests = pd.read_sql_query(\"select * from user_interests;\", conn)\n",
    "\n",
    "# Close connection of sqlite. Always remember to close the connection!\n",
    "conn.close()"
   ]
  },
  {
   "cell_type": "markdown",
   "metadata": {},
   "source": [
    "Let's view how the data looks like. Normally the data has problems either on it's head or tail! We will see the 4 head and 4 tail rows of each table."
   ]
  },
  {
   "cell_type": "code",
   "execution_count": 39,
   "metadata": {},
   "outputs": [
    {
     "name": "stdout",
     "output_type": "stream",
     "text": [
      "User Assessments : Dims = (6571, 4)\n"
     ]
    },
    {
     "data": {
      "text/html": [
       "<div>\n",
       "<style scoped>\n",
       "    .dataframe tbody tr th:only-of-type {\n",
       "        vertical-align: middle;\n",
       "    }\n",
       "\n",
       "    .dataframe tbody tr th {\n",
       "        vertical-align: top;\n",
       "    }\n",
       "\n",
       "    .dataframe thead th {\n",
       "        text-align: right;\n",
       "    }\n",
       "</style>\n",
       "<table border=\"1\" class=\"dataframe\">\n",
       "  <thead>\n",
       "    <tr style=\"text-align: right;\">\n",
       "      <th></th>\n",
       "      <th>user_handle</th>\n",
       "      <th>assessment_tag</th>\n",
       "      <th>user_assessment_date</th>\n",
       "      <th>user_assessment_score</th>\n",
       "    </tr>\n",
       "  </thead>\n",
       "  <tbody>\n",
       "    <tr>\n",
       "      <th>0</th>\n",
       "      <td>7487</td>\n",
       "      <td>angular-js</td>\n",
       "      <td>2017-08-11 19:03:38</td>\n",
       "      <td>134</td>\n",
       "    </tr>\n",
       "    <tr>\n",
       "      <th>1</th>\n",
       "      <td>7487</td>\n",
       "      <td>css</td>\n",
       "      <td>2017-08-11 20:09:56</td>\n",
       "      <td>38</td>\n",
       "    </tr>\n",
       "    <tr>\n",
       "      <th>2</th>\n",
       "      <td>7487</td>\n",
       "      <td>html5</td>\n",
       "      <td>2017-07-31 18:59:37</td>\n",
       "      <td>84</td>\n",
       "    </tr>\n",
       "    <tr>\n",
       "      <th>3</th>\n",
       "      <td>7487</td>\n",
       "      <td>java</td>\n",
       "      <td>2017-07-31 18:49:27</td>\n",
       "      <td>149</td>\n",
       "    </tr>\n",
       "  </tbody>\n",
       "</table>\n",
       "</div>"
      ],
      "text/plain": [
       "  user_handle assessment_tag user_assessment_date user_assessment_score\n",
       "0        7487     angular-js  2017-08-11 19:03:38                   134\n",
       "1        7487            css  2017-08-11 20:09:56                    38\n",
       "2        7487          html5  2017-07-31 18:59:37                    84\n",
       "3        7487           java  2017-07-31 18:49:27                   149"
      ]
     },
     "metadata": {},
     "output_type": "display_data"
    },
    {
     "data": {
      "text/html": [
       "<div>\n",
       "<style scoped>\n",
       "    .dataframe tbody tr th:only-of-type {\n",
       "        vertical-align: middle;\n",
       "    }\n",
       "\n",
       "    .dataframe tbody tr th {\n",
       "        vertical-align: top;\n",
       "    }\n",
       "\n",
       "    .dataframe thead th {\n",
       "        text-align: right;\n",
       "    }\n",
       "</style>\n",
       "<table border=\"1\" class=\"dataframe\">\n",
       "  <thead>\n",
       "    <tr style=\"text-align: right;\">\n",
       "      <th></th>\n",
       "      <th>user_handle</th>\n",
       "      <th>assessment_tag</th>\n",
       "      <th>user_assessment_date</th>\n",
       "      <th>user_assessment_score</th>\n",
       "    </tr>\n",
       "  </thead>\n",
       "  <tbody>\n",
       "    <tr>\n",
       "      <th>6567</th>\n",
       "      <td>8887</td>\n",
       "      <td>angular-js</td>\n",
       "      <td>2016-09-30 22:30:48</td>\n",
       "      <td>221</td>\n",
       "    </tr>\n",
       "    <tr>\n",
       "      <th>6568</th>\n",
       "      <td>8887</td>\n",
       "      <td>docker</td>\n",
       "      <td>2017-03-24 17:55:06</td>\n",
       "      <td>148</td>\n",
       "    </tr>\n",
       "    <tr>\n",
       "      <th>6569</th>\n",
       "      <td>8887</td>\n",
       "      <td>html5</td>\n",
       "      <td>2017-02-10 16:38:53</td>\n",
       "      <td>241</td>\n",
       "    </tr>\n",
       "    <tr>\n",
       "      <th>6570</th>\n",
       "      <td>4440</td>\n",
       "      <td>c-sharp</td>\n",
       "      <td>2017-09-04 15:58:48</td>\n",
       "      <td>126</td>\n",
       "    </tr>\n",
       "  </tbody>\n",
       "</table>\n",
       "</div>"
      ],
      "text/plain": [
       "     user_handle assessment_tag user_assessment_date user_assessment_score\n",
       "6567        8887     angular-js  2016-09-30 22:30:48                   221\n",
       "6568        8887         docker  2017-03-24 17:55:06                   148\n",
       "6569        8887          html5  2017-02-10 16:38:53                   241\n",
       "6570        4440        c-sharp  2017-09-04 15:58:48                   126"
      ]
     },
     "metadata": {},
     "output_type": "display_data"
    },
    {
     "name": "stdout",
     "output_type": "stream",
     "text": [
      "\n",
      "User Course Views : Dims = (249238, 6)\n"
     ]
    },
    {
     "data": {
      "text/html": [
       "<div>\n",
       "<style scoped>\n",
       "    .dataframe tbody tr th:only-of-type {\n",
       "        vertical-align: middle;\n",
       "    }\n",
       "\n",
       "    .dataframe tbody tr th {\n",
       "        vertical-align: top;\n",
       "    }\n",
       "\n",
       "    .dataframe thead th {\n",
       "        text-align: right;\n",
       "    }\n",
       "</style>\n",
       "<table border=\"1\" class=\"dataframe\">\n",
       "  <thead>\n",
       "    <tr style=\"text-align: right;\">\n",
       "      <th></th>\n",
       "      <th>user_handle</th>\n",
       "      <th>view_date</th>\n",
       "      <th>course_id</th>\n",
       "      <th>author_handle</th>\n",
       "      <th>level</th>\n",
       "      <th>view_time_seconds</th>\n",
       "    </tr>\n",
       "  </thead>\n",
       "  <tbody>\n",
       "    <tr>\n",
       "      <th>0</th>\n",
       "      <td>1</td>\n",
       "      <td>2017-06-27</td>\n",
       "      <td>cpt-sp2010-web-designers-branding-intro</td>\n",
       "      <td>875</td>\n",
       "      <td>Beginner</td>\n",
       "      <td>3786</td>\n",
       "    </tr>\n",
       "    <tr>\n",
       "      <th>1</th>\n",
       "      <td>1</td>\n",
       "      <td>2017-06-28</td>\n",
       "      <td>cpt-sp2010-web-designers-branding-intro</td>\n",
       "      <td>875</td>\n",
       "      <td>Beginner</td>\n",
       "      <td>1098</td>\n",
       "    </tr>\n",
       "    <tr>\n",
       "      <th>2</th>\n",
       "      <td>1</td>\n",
       "      <td>2017-06-28</td>\n",
       "      <td>cpt-sp2010-web-designers-css</td>\n",
       "      <td>875</td>\n",
       "      <td>Intermediate</td>\n",
       "      <td>4406</td>\n",
       "    </tr>\n",
       "    <tr>\n",
       "      <th>3</th>\n",
       "      <td>1</td>\n",
       "      <td>2017-07-27</td>\n",
       "      <td>cpt-sp2010-web-designers-css</td>\n",
       "      <td>875</td>\n",
       "      <td>Intermediate</td>\n",
       "      <td>553</td>\n",
       "    </tr>\n",
       "  </tbody>\n",
       "</table>\n",
       "</div>"
      ],
      "text/plain": [
       "  user_handle   view_date                                course_id  \\\n",
       "0           1  2017-06-27  cpt-sp2010-web-designers-branding-intro   \n",
       "1           1  2017-06-28  cpt-sp2010-web-designers-branding-intro   \n",
       "2           1  2017-06-28             cpt-sp2010-web-designers-css   \n",
       "3           1  2017-07-27             cpt-sp2010-web-designers-css   \n",
       "\n",
       "  author_handle         level view_time_seconds  \n",
       "0           875      Beginner              3786  \n",
       "1           875      Beginner              1098  \n",
       "2           875  Intermediate              4406  \n",
       "3           875  Intermediate               553  "
      ]
     },
     "metadata": {},
     "output_type": "display_data"
    },
    {
     "data": {
      "text/html": [
       "<div>\n",
       "<style scoped>\n",
       "    .dataframe tbody tr th:only-of-type {\n",
       "        vertical-align: middle;\n",
       "    }\n",
       "\n",
       "    .dataframe tbody tr th {\n",
       "        vertical-align: top;\n",
       "    }\n",
       "\n",
       "    .dataframe thead th {\n",
       "        text-align: right;\n",
       "    }\n",
       "</style>\n",
       "<table border=\"1\" class=\"dataframe\">\n",
       "  <thead>\n",
       "    <tr style=\"text-align: right;\">\n",
       "      <th></th>\n",
       "      <th>user_handle</th>\n",
       "      <th>view_date</th>\n",
       "      <th>course_id</th>\n",
       "      <th>author_handle</th>\n",
       "      <th>level</th>\n",
       "      <th>view_time_seconds</th>\n",
       "    </tr>\n",
       "  </thead>\n",
       "  <tbody>\n",
       "    <tr>\n",
       "      <th>249234</th>\n",
       "      <td>9999</td>\n",
       "      <td>2017-10-14</td>\n",
       "      <td>python-getting-started</td>\n",
       "      <td>104</td>\n",
       "      <td>Beginner</td>\n",
       "      <td>1612</td>\n",
       "    </tr>\n",
       "    <tr>\n",
       "      <th>249235</th>\n",
       "      <td>10000</td>\n",
       "      <td>2017-08-18</td>\n",
       "      <td>apex-absolute-beginner-guide-coding-salesforce</td>\n",
       "      <td>229</td>\n",
       "      <td>Beginner</td>\n",
       "      <td>402</td>\n",
       "    </tr>\n",
       "    <tr>\n",
       "      <th>249236</th>\n",
       "      <td>10000</td>\n",
       "      <td>2017-08-21</td>\n",
       "      <td>apex-absolute-beginner-guide-coding-salesforce</td>\n",
       "      <td>229</td>\n",
       "      <td>Beginner</td>\n",
       "      <td>9500</td>\n",
       "    </tr>\n",
       "    <tr>\n",
       "      <th>249237</th>\n",
       "      <td>10000</td>\n",
       "      <td>2017-08-21</td>\n",
       "      <td>apex-fundamental-coding</td>\n",
       "      <td>229</td>\n",
       "      <td>Beginner</td>\n",
       "      <td>1659</td>\n",
       "    </tr>\n",
       "  </tbody>\n",
       "</table>\n",
       "</div>"
      ],
      "text/plain": [
       "       user_handle   view_date  \\\n",
       "249234        9999  2017-10-14   \n",
       "249235       10000  2017-08-18   \n",
       "249236       10000  2017-08-21   \n",
       "249237       10000  2017-08-21   \n",
       "\n",
       "                                             course_id author_handle  \\\n",
       "249234                          python-getting-started           104   \n",
       "249235  apex-absolute-beginner-guide-coding-salesforce           229   \n",
       "249236  apex-absolute-beginner-guide-coding-salesforce           229   \n",
       "249237                         apex-fundamental-coding           229   \n",
       "\n",
       "           level view_time_seconds  \n",
       "249234  Beginner              1612  \n",
       "249235  Beginner               402  \n",
       "249236  Beginner              9500  \n",
       "249237  Beginner              1659  "
      ]
     },
     "metadata": {},
     "output_type": "display_data"
    },
    {
     "name": "stdout",
     "output_type": "stream",
     "text": [
      "\n",
      "Course Tags : Dims = (11337, 2)\n"
     ]
    },
    {
     "data": {
      "text/html": [
       "<div>\n",
       "<style scoped>\n",
       "    .dataframe tbody tr th:only-of-type {\n",
       "        vertical-align: middle;\n",
       "    }\n",
       "\n",
       "    .dataframe tbody tr th {\n",
       "        vertical-align: top;\n",
       "    }\n",
       "\n",
       "    .dataframe thead th {\n",
       "        text-align: right;\n",
       "    }\n",
       "</style>\n",
       "<table border=\"1\" class=\"dataframe\">\n",
       "  <thead>\n",
       "    <tr style=\"text-align: right;\">\n",
       "      <th></th>\n",
       "      <th>course_id</th>\n",
       "      <th>course_tags</th>\n",
       "    </tr>\n",
       "  </thead>\n",
       "  <tbody>\n",
       "    <tr>\n",
       "      <th>0</th>\n",
       "      <td>12-principles-animation-toon-boom-harmony-1475</td>\n",
       "      <td>2d-animation</td>\n",
       "    </tr>\n",
       "    <tr>\n",
       "      <th>1</th>\n",
       "      <td>2d-racing-game-series-unity-5-1312</td>\n",
       "      <td>game-design</td>\n",
       "    </tr>\n",
       "    <tr>\n",
       "      <th>2</th>\n",
       "      <td>2d-racing-games-unity-volume-2-1286</td>\n",
       "      <td>game-art</td>\n",
       "    </tr>\n",
       "    <tr>\n",
       "      <th>3</th>\n",
       "      <td>2d-racing-games-unity-volume-2-1286</td>\n",
       "      <td>digital-painting</td>\n",
       "    </tr>\n",
       "  </tbody>\n",
       "</table>\n",
       "</div>"
      ],
      "text/plain": [
       "                                        course_id       course_tags\n",
       "0  12-principles-animation-toon-boom-harmony-1475      2d-animation\n",
       "1              2d-racing-game-series-unity-5-1312       game-design\n",
       "2             2d-racing-games-unity-volume-2-1286          game-art\n",
       "3             2d-racing-games-unity-volume-2-1286  digital-painting"
      ]
     },
     "metadata": {},
     "output_type": "display_data"
    },
    {
     "data": {
      "text/html": [
       "<div>\n",
       "<style scoped>\n",
       "    .dataframe tbody tr th:only-of-type {\n",
       "        vertical-align: middle;\n",
       "    }\n",
       "\n",
       "    .dataframe tbody tr th {\n",
       "        vertical-align: top;\n",
       "    }\n",
       "\n",
       "    .dataframe thead th {\n",
       "        text-align: right;\n",
       "    }\n",
       "</style>\n",
       "<table border=\"1\" class=\"dataframe\">\n",
       "  <thead>\n",
       "    <tr style=\"text-align: right;\">\n",
       "      <th></th>\n",
       "      <th>course_id</th>\n",
       "      <th>course_tags</th>\n",
       "    </tr>\n",
       "  </thead>\n",
       "  <tbody>\n",
       "    <tr>\n",
       "      <th>11333</th>\n",
       "      <td>z-os-mainframe-introduction</td>\n",
       "      <td>mainframe</td>\n",
       "    </tr>\n",
       "    <tr>\n",
       "      <th>11334</th>\n",
       "      <td>z-os-tso-ispf-environment-introduction</td>\n",
       "      <td>mainframe</td>\n",
       "    </tr>\n",
       "    <tr>\n",
       "      <th>11335</th>\n",
       "      <td>zsphere-modeling-zbrush-3505</td>\n",
       "      <td>3d-modeling</td>\n",
       "    </tr>\n",
       "    <tr>\n",
       "      <th>11336</th>\n",
       "      <td>zsphere-modeling-zbrush-3505</td>\n",
       "      <td>3d-sculpting</td>\n",
       "    </tr>\n",
       "  </tbody>\n",
       "</table>\n",
       "</div>"
      ],
      "text/plain": [
       "                                    course_id   course_tags\n",
       "11333             z-os-mainframe-introduction     mainframe\n",
       "11334  z-os-tso-ispf-environment-introduction     mainframe\n",
       "11335            zsphere-modeling-zbrush-3505   3d-modeling\n",
       "11336            zsphere-modeling-zbrush-3505  3d-sculpting"
      ]
     },
     "metadata": {},
     "output_type": "display_data"
    },
    {
     "name": "stdout",
     "output_type": "stream",
     "text": [
      "\n",
      "User Interests : Dims = (297526, 3)\n"
     ]
    },
    {
     "data": {
      "text/html": [
       "<div>\n",
       "<style scoped>\n",
       "    .dataframe tbody tr th:only-of-type {\n",
       "        vertical-align: middle;\n",
       "    }\n",
       "\n",
       "    .dataframe tbody tr th {\n",
       "        vertical-align: top;\n",
       "    }\n",
       "\n",
       "    .dataframe thead th {\n",
       "        text-align: right;\n",
       "    }\n",
       "</style>\n",
       "<table border=\"1\" class=\"dataframe\">\n",
       "  <thead>\n",
       "    <tr style=\"text-align: right;\">\n",
       "      <th></th>\n",
       "      <th>user_handle</th>\n",
       "      <th>interest_tag</th>\n",
       "      <th>date_followed</th>\n",
       "    </tr>\n",
       "  </thead>\n",
       "  <tbody>\n",
       "    <tr>\n",
       "      <th>0</th>\n",
       "      <td>1</td>\n",
       "      <td>mvc-scaffolding</td>\n",
       "      <td>2017-06-27 16:26:52</td>\n",
       "    </tr>\n",
       "    <tr>\n",
       "      <th>1</th>\n",
       "      <td>1</td>\n",
       "      <td>mvc2</td>\n",
       "      <td>2017-06-27 16:26:52</td>\n",
       "    </tr>\n",
       "    <tr>\n",
       "      <th>2</th>\n",
       "      <td>1</td>\n",
       "      <td>mvc-html-helpers</td>\n",
       "      <td>2017-06-27 16:26:52</td>\n",
       "    </tr>\n",
       "    <tr>\n",
       "      <th>3</th>\n",
       "      <td>1</td>\n",
       "      <td>mvc4-ioc</td>\n",
       "      <td>2017-06-27 16:26:52</td>\n",
       "    </tr>\n",
       "  </tbody>\n",
       "</table>\n",
       "</div>"
      ],
      "text/plain": [
       "  user_handle      interest_tag        date_followed\n",
       "0           1   mvc-scaffolding  2017-06-27 16:26:52\n",
       "1           1              mvc2  2017-06-27 16:26:52\n",
       "2           1  mvc-html-helpers  2017-06-27 16:26:52\n",
       "3           1          mvc4-ioc  2017-06-27 16:26:52"
      ]
     },
     "metadata": {},
     "output_type": "display_data"
    },
    {
     "data": {
      "text/html": [
       "<div>\n",
       "<style scoped>\n",
       "    .dataframe tbody tr th:only-of-type {\n",
       "        vertical-align: middle;\n",
       "    }\n",
       "\n",
       "    .dataframe tbody tr th {\n",
       "        vertical-align: top;\n",
       "    }\n",
       "\n",
       "    .dataframe thead th {\n",
       "        text-align: right;\n",
       "    }\n",
       "</style>\n",
       "<table border=\"1\" class=\"dataframe\">\n",
       "  <thead>\n",
       "    <tr style=\"text-align: right;\">\n",
       "      <th></th>\n",
       "      <th>user_handle</th>\n",
       "      <th>interest_tag</th>\n",
       "      <th>date_followed</th>\n",
       "    </tr>\n",
       "  </thead>\n",
       "  <tbody>\n",
       "    <tr>\n",
       "      <th>297522</th>\n",
       "      <td>10000</td>\n",
       "      <td>salesforce</td>\n",
       "      <td>2017-08-14 14:56:57</td>\n",
       "    </tr>\n",
       "    <tr>\n",
       "      <th>297523</th>\n",
       "      <td>10000</td>\n",
       "      <td>sql</td>\n",
       "      <td>2017-08-14 14:56:57</td>\n",
       "    </tr>\n",
       "    <tr>\n",
       "      <th>297524</th>\n",
       "      <td>10000</td>\n",
       "      <td>java</td>\n",
       "      <td>2017-08-14 14:56:57</td>\n",
       "    </tr>\n",
       "    <tr>\n",
       "      <th>297525</th>\n",
       "      <td>10000</td>\n",
       "      <td>c#</td>\n",
       "      <td>2017-08-14 14:56:57</td>\n",
       "    </tr>\n",
       "  </tbody>\n",
       "</table>\n",
       "</div>"
      ],
      "text/plain": [
       "       user_handle interest_tag        date_followed\n",
       "297522       10000   salesforce  2017-08-14 14:56:57\n",
       "297523       10000          sql  2017-08-14 14:56:57\n",
       "297524       10000         java  2017-08-14 14:56:57\n",
       "297525       10000           c#  2017-08-14 14:56:57"
      ]
     },
     "metadata": {},
     "output_type": "display_data"
    }
   ],
   "source": [
    "from IPython.display import display, HTML\n",
    "\n",
    "print(\"User Assessments : Dims = \" + str(user_assessment_scores.shape))\n",
    "display(user_assessment_scores.head(4))\n",
    "display(user_assessment_scores.tail(4))\n",
    "\n",
    "print(\"\\nUser Course Views : Dims = \" + str(user_course_views.shape))\n",
    "display(user_course_views.head(4))\n",
    "display(user_course_views.tail(4))\n",
    "\n",
    "print(\"\\nCourse Tags : Dims = \" + str(course_tags.shape))\n",
    "display(course_tags.head(4))\n",
    "display(course_tags.tail(4))\n",
    "\n",
    "print(\"\\nUser Interests : Dims = \" + str(user_interests.shape))\n",
    "display(user_interests.head(4))\n",
    "display(user_interests.tail(4))"
   ]
  },
  {
   "cell_type": "markdown",
   "metadata": {},
   "source": [
    "Lets see if we have any missing values in the data."
   ]
  },
  {
   "cell_type": "code",
   "execution_count": null,
   "metadata": {},
   "outputs": [],
   "source": [
    "print(user_assessment_scores.isna().sum() + user_assessment_scores.isnull().sum())\n",
    "print(user_course_views.isnull().sum() + user_course_views.isna().sum())\n",
    "print(course_tags.isnull().sum() + course_tags.isna().sum())\n",
    "print(user_interests.isnull().sum() + user_interests.isna().sum())"
   ]
  },
  {
   "cell_type": "markdown",
   "metadata": {},
   "source": [
    "Great, There are no missing values. Next step will be checking the datatypes and casting to correct datatypes if we need to. "
   ]
  },
  {
   "cell_type": "code",
   "execution_count": 40,
   "metadata": {},
   "outputs": [],
   "source": [
    "# Lets update the datatypes.\n",
    "print(\"Before = \" + str(user_assessment_scores.dtype))\n",
    "user_assessment_scores['user_assessment_score'] = pd.to_numeric(user_assessment_scores['user_assessment_score'])\n",
    "user_assessment_scores['user_assessment_date'] = pd.to_datetime(user_assessment_scores['user_assessment_score'])\n",
    "print(\"After = \" + str(user_assessment_scores.dtype))\n",
    "\n",
    "print(\"Before = \" + str(user_course_views.dtype))\n",
    "user_course_views['view_time_seconds'] = pd.to_numeric(user_course_views['view_time_seconds'])\n",
    "user_course_views['view_date'] = pd.to_datetime(user_course_views['view_date'])\n",
    "print(\"After = \" + str(user_course_views.dtype))\n",
    "\n",
    "print(\"Before = \" + str(user_interests.dtype))\n",
    "user_interests['date_followed'] = pd.to_datetime(user_interests['date_followed'])\n",
    "print(\"After = \" + str(user_interests.dtype))"
   ]
  },
  {
   "cell_type": "markdown",
   "metadata": {},
   "source": [
    "The data looks pretty much clean! *I am happy!* :) <br>\n",
    "There is no missing data, hence we don't have to deal with any missing data cases for now.\n",
    "<br>- Lets get rid of duplicate rows from the data. <br>- Next lets see if when we have all the data for users in interest and course view table"
   ]
  },
  {
   "cell_type": "code",
   "execution_count": 42,
   "metadata": {},
   "outputs": [
    {
     "name": "stdout",
     "output_type": "stream",
     "text": [
      "Duplicates in user interest df removed\n"
     ]
    }
   ],
   "source": [
    "# We have some rows which are duplicate. Lets get rid of those rows, \n",
    "# so that we can train our model only once on one training set.\n",
    "\n",
    "if(user_assessment_scores.drop_duplicates().shape[0] != user_assessment_scores.shape[0]):\n",
    "    user_assessment_scores = user_assessment_scores.drop_duplicates()\n",
    "    print(\"Duplicates in user assessment scores df removed\")\n",
    "    \n",
    "if(user_course_views.drop_duplicates().shape[0] != user_course_views.shape[0]):\n",
    "    user_course_views = user_course_views.drop_duplicates()\n",
    "    print(\"Duplicates in user course views df removed\")\n",
    "\n",
    "if(course_tags.drop_duplicates().shape[0] != course_tags.shape[0]):\n",
    "    course_tags = course_tags.drop_duplicates()\n",
    "    print(\"Duplicates in course tags df removed\")\n",
    "\n",
    "if(user_interests.drop_duplicates().shape[0] != user_interests.shape[0]):\n",
    "    user_interests = user_interests.drop_duplicates()\n",
    "    print(\"Duplicates in user interest df removed\")"
   ]
  },
  {
   "cell_type": "markdown",
   "metadata": {},
   "source": [
    "Next let us collect all user ids. We will use this all users df to find users who have missing interests, course views, or assessments!<br> Similarly, we will also find the courses with missing tags but has user course view!"
   ]
  },
  {
   "cell_type": "code",
   "execution_count": 43,
   "metadata": {},
   "outputs": [
    {
     "name": "stdout",
     "output_type": "stream",
     "text": [
      "0    7487\n",
      "6    7407\n",
      "7    3600\n",
      "8    8152\n",
      "9    3637\n",
      "Name: user_handle, dtype: object\n",
      "10000\n"
     ]
    }
   ],
   "source": [
    "unique_users_in_assessment = user_assessment_scores['user_handle'].drop_duplicates()\n",
    "unique_users_in_course_view = user_course_views['user_handle'].drop_duplicates()\n",
    "unique_users_interests = user_interests['user_handle'].drop_duplicates()\n",
    "\n",
    "unique_users = pd.concat([unique_users_in_assessment, unique_users_interests, unique_users_in_course_view]).drop_duplicates()\n",
    "print(unique_users.head())\n",
    "print(unique_users.shape[0])"
   ]
  },
  {
   "cell_type": "code",
   "execution_count": 44,
   "metadata": {},
   "outputs": [
    {
     "name": "stdout",
     "output_type": "stream",
     "text": [
      "0           cpt-sp2010-web-designers-branding-intro\n",
      "2                      cpt-sp2010-web-designers-css\n",
      "4    aws-certified-solutions-architect-professional\n",
      "5              aws-certified-sysops-admin-associate\n",
      "6                     aws-system-admin-fundamentals\n",
      "Name: course_id, dtype: object\n",
      "5942\n"
     ]
    }
   ],
   "source": [
    "unique_courses_in_course_view = user_course_views['course_id'].drop_duplicates()\n",
    "unique_courses_in_course_tags = course_tags['course_id'].drop_duplicates()\n",
    "unique_courses = pd.concat([unique_courses_in_course_view, unique_courses_in_course_tags]).drop_duplicates()\n",
    "print(unique_courses.head())\n",
    "print(unique_courses.shape[0])"
   ]
  },
  {
   "cell_type": "markdown",
   "metadata": {},
   "source": [
    "We have found that there are 10000 users and 5942 courses in the system. Lets also grab unique course tags, interest tags, and assessment tags."
   ]
  },
  {
   "cell_type": "code",
   "execution_count": 45,
   "metadata": {},
   "outputs": [
    {
     "name": "stdout",
     "output_type": "stream",
     "text": [
      "0        2d-animation\n",
      "1         game-design\n",
      "2            game-art\n",
      "3    digital-painting\n",
      "4       image-editing\n",
      "Name: course_tags, dtype: object\n",
      "999\n",
      "0    angular-js\n",
      "1           css\n",
      "2         html5\n",
      "3          java\n",
      "4    javascript\n",
      "Name: assessment_tag, dtype: object\n",
      "54\n",
      "0     mvc-scaffolding\n",
      "1                mvc2\n",
      "2    mvc-html-helpers\n",
      "3            mvc4-ioc\n",
      "4         mvc-testing\n",
      "Name: interest_tag, dtype: object\n",
      "748\n",
      "Total number of tags : 1191\n"
     ]
    }
   ],
   "source": [
    "unqiue_course_tags = course_tags['course_tags'].drop_duplicates()\n",
    "print(unqiue_course_tags.head())\n",
    "print(unqiue_course_tags.shape[0])\n",
    "\n",
    "unqiue_assessment_tags = user_assessment_scores['assessment_tag'].drop_duplicates()\n",
    "print(unqiue_assessment_tags.head())\n",
    "print(unqiue_assessment_tags.shape[0])\n",
    "\n",
    "unique_interest_tags = user_interests['interest_tag'].drop_duplicates()\n",
    "print(unique_interest_tags.head())\n",
    "print(unique_interest_tags.shape[0])\n",
    "\n",
    "all_tags = pd.concat([unqiue_course_tags, unqiue_assessment_tags, unique_interest_tags]).drop_duplicates()\n",
    "print(\"Total number of tags : \" + str(all_tags.shape[0]))"
   ]
  },
  {
   "cell_type": "markdown",
   "metadata": {},
   "source": [
    "Results show that we have 999 unique course tags, 54 assessment tags, and 748 interest tags! The total tags are 1191 which means we have some tags common."
   ]
  },
  {
   "cell_type": "code",
   "execution_count": 46,
   "metadata": {},
   "outputs": [
    {
     "data": {
      "text/plain": [
       "user_handle                      object\n",
       "assessment_tag                   object\n",
       "user_assessment_date     datetime64[ns]\n",
       "user_assessment_score             int64\n",
       "dtype: object"
      ]
     },
     "execution_count": 46,
     "metadata": {},
     "output_type": "execute_result"
    }
   ],
   "source": [
    "import matplotlib.pyplot as plt\n",
    "import seaborn as sns\n",
    "\n",
    "%matplotlib inline\n",
    "sns.set_style('whitegrid')\n",
    "plt.rcParams['patch.force_edgecolor']=True\n",
    "user_assessment_scores.dtypes"
   ]
  },
  {
   "cell_type": "code",
   "execution_count": 47,
   "metadata": {},
   "outputs": [
    {
     "data": {
      "text/plain": [
       "<matplotlib.axes._subplots.AxesSubplot at 0x1b27f7b8>"
      ]
     },
     "execution_count": 47,
     "metadata": {},
     "output_type": "execute_result"
    },
    {
     "data": {
      "image/png": "[encoded data removed]",
      "text/plain": [
       "<Figure size 432x288 with 1 Axes>"
      ]
     },
     "metadata": {},
     "output_type": "display_data"
    }
   ],
   "source": [
    "# Plot the assessment scores\n",
    "sns.distplot(user_assessment_scores['user_assessment_score'])"
   ]
  },
  {
   "cell_type": "markdown",
   "metadata": {},
   "source": [
    "#### Let's start to create some similarity measure and evalute KNN\n",
    "We will start by creating similarity for users based on their assessments.\n",
    "We will create a class that takes in the dataframe, value columns, and index column to return top users based on SVD, Cosine, and Pearson similarity."
   ]
  },
  {
   "cell_type": "code",
   "execution_count": 148,
   "metadata": {},
   "outputs": [
    {
     "name": "stdout",
     "output_type": "stream",
     "text": [
      "Cosine similarity calculated!\n",
      "737.8135814726239\n",
      "SVD similarity calculated!\n"
     ]
    }
   ],
   "source": [
    "TOP_CUTOFF_USERS = 10\n",
    "\n",
    "# Class for similarity measure.\n",
    "from scipy import sparse\n",
    "from sklearn.metrics.pairwise import cosine_similarity\n",
    "\n",
    "class SimilarityMeasure:\n",
    "    def __initialize_matrix(self):\n",
    "        if self.__values_column is None:\n",
    "            self.__dataframe['temp_val'] = 1\n",
    "            self.__values_column = 'temp_val'\n",
    "        self.__scores_matrix = self.__dataframe.pivot(index = self.__index_column, columns= self.__columns_column, \n",
    "                                            values = self.__values_column)\n",
    "        self.__scores_matrix = self.__scores_matrix.fillna(0)\n",
    "        self.index_values = self.__scores_matrix.index.values\n",
    "        # we need reindexed to calclulate the cosine similarities\n",
    "        self.__reindexed_scores_matrix = self.__scores_matrix.copy()\n",
    "        self.__reindexed_scores_matrix.index = range(0, self.index_values.shape[0])\n",
    "        self.pearson_similarity_martix = None\n",
    "        self.cosine_similarities_matrix = None\n",
    "        self.__sliced = None\n",
    "    \n",
    "    def calculate_pearson_similarity(self):\n",
    "        self.pearson_similarity_martix = self.__scores_matrix.T.corr(method = 'pearson')\n",
    "        print(\"Pearson similarity calculated!\")\n",
    "        \n",
    "    # Function that taken in user handle as input and outputs most similar users based on pearson.\n",
    "    def get_pearson_similar_users(self, user_handle):\n",
    "        if not self.isValidUser(user_handle):\n",
    "            return(\"Error - User not found!!\")\n",
    "        if self.pearson_similarity_martix is not None:\n",
    "            user_handle_scores = self.pearson_similarity_martix[user_handle]\n",
    "            similar_users = user_handle_scores.sort_values(ascending = False)[1:TOP_CUTOFF_USERS]\n",
    "            return similar_users\n",
    "        else :\n",
    "            print(\"Error - Pearson similarity not calculated!!!!\")\n",
    "    \n",
    "    # Function to calculate cosine similarity.\n",
    "    def calculate_cosine_similarity(self):\n",
    "        A_sparse = sparse.csr_matrix(self.__reindexed_scores_matrix)\n",
    "        self.cosine_similarities_matrix = cosine_similarity(A_sparse, dense_output = False)\n",
    "        print(\"Cosine similarity calculated!\")\n",
    "    \n",
    "    # Function that taken in user handle as input and outputs most similar users based on pearson.\n",
    "    def get_cosine_similar_users(self, user_handle):\n",
    "        if not self.isValidUser(user_handle):\n",
    "            return(\"Error - User not found!!\")\n",
    "        if self.cosine_similarities_matrix is not None:\n",
    "            idx = np.where(self.index_values == user_handle)\n",
    "            print(idx)\n",
    "            scores = pd.DataFrame(self.cosine_similarities_matrix[idx].T.toarray(), index = self.index_values)\n",
    "            similar_users = scores.sort_values(by=[0], ascending = False)[1:TOP_CUTOFF_USERS]\n",
    "            return similar_users\n",
    "        else :\n",
    "            print(\"Error - Cosine similarity not caclculated!!!!\")\n",
    "        \n",
    "    def calculate_svd_similarity(self, full_matrix = False, dim_size = 20):\n",
    "        scores_mean = np.asarray([(np.mean(self.__reindexed_scores_matrix, 1))]).T\n",
    "        normalised_mat = self.__reindexed_scores_matrix - scores_mean\n",
    "        A = normalised_mat.T #/ np.sqrt(self.__reindexed_scores_matrix.shape[0] - 1)\n",
    "        \n",
    "        # Using svd\n",
    "        U, S, V = np.linalg.svd(A, full_matrices = full_matrix)\n",
    "        #Reducing the dimensions\n",
    "        self.__sliced = V.T[:, :dim_size]\n",
    "        self.__magnitude = np.sqrt(np.einsum('ij, ij -> i', self.__sliced, self.__sliced))\n",
    "        \n",
    "        #A_k = U[:, :dim_size] * np.diag(S[:dim_size]) * V[:dim_size, :]\n",
    "        dim_size = 1000\n",
    "        # re_create and check MSE to see if it worked!\n",
    "        S_k = np.diag(S[:dim_size])\n",
    "        U_k = U[:, :dim_size]\n",
    "        V_k = V[:dim_size, ]\n",
    "        A_k = np.dot(np.dot(U_k, S_k), V_k) + scores_mean.T\n",
    "        from sklearn.metrics import mean_squared_error\n",
    "        mse = mean_squared_error(A, A_k)\n",
    "        print(mse)\n",
    "        print(\"SVD similarity calculated!\")\n",
    "\n",
    "        \n",
    "    def get_svd_similar_users(self, user_handle):\n",
    "        if not self.isValidUser(user_handle):\n",
    "            return(\"Error - User not found!!\")\n",
    "        if self.__sliced is not None:\n",
    "            index = np.where(self.index_values == user_handle)[0][0] # we need index as int not array\n",
    "            user_row = self.__sliced[index, :]\n",
    "            similarity = np.dot(user_row, self.__sliced.T) / (self.__magnitude[index] * self.__magnitude)\n",
    "            scores = pd.DataFrame(similarity, index = self.index_values)\n",
    "            similar_users = scores.sort_values(by=[0], ascending = False)[1:TOP_CUTOFF_USERS]\n",
    "            return similar_users\n",
    "        else :\n",
    "            print(\"Error - SVD Similarity not calculated!!!!\")\n",
    "    \n",
    "    def isValidUser(self, user_handle):\n",
    "        return ((self.index_values == user_handle).sum() > 0)\n",
    "    \n",
    "    def __init__(self, parameters):\n",
    "        self.__dataframe = parameters['dataframe'].copy()\n",
    "        self.__index_column = parameters['index_column']\n",
    "        # The column in dataframe which will be used to created columns in matrix\n",
    "        self.__columns_column = parameters['columns_column']\n",
    "        if 'values_column' in parameters:\n",
    "            self.__values_column = parameters['values_column']\n",
    "        else:\n",
    "            self.__values_column = None\n",
    "        self.__initialize_matrix()\n",
    "\n",
    "        \n",
    "user_assessment_similarity_measure = SimilarityMeasure({\n",
    "                                'dataframe' : user_assessment_scores,\n",
    "                                'index_column' : 'user_handle', 'columns_column' : 'assessment_tag',\n",
    "                                'values_column' : 'user_assessment_score'\n",
    "                                })\n",
    "user_assessment_similarity_measure.calculate_cosine_similarity()\n",
    "user_assessment_similarity_measure.calculate_svd_similarity()"
   ]
  },
  {
   "cell_type": "code",
   "execution_count": 112,
   "metadata": {},
   "outputs": [
    {
     "data": {
      "text/plain": [
       "Index([u'user_handle', u'assessment_tag', u'user_assessment_date',\n",
       "       u'user_assessment_score'],\n",
       "      dtype='object')"
      ]
     },
     "execution_count": 112,
     "metadata": {},
     "output_type": "execute_result"
    }
   ],
   "source": [
    "user_assessment_scores.columns"
   ]
  },
  {
   "cell_type": "code",
   "execution_count": 135,
   "metadata": {},
   "outputs": [
    {
     "name": "stdout",
     "output_type": "stream",
     "text": [
      "Cosine similarity calculated!\n"
     ]
    },
    {
     "ename": "ValueError",
     "evalue": "shapes (54,54) and (20,3114) not aligned: 54 (dim 1) != 20 (dim 0)",
     "output_type": "error",
     "traceback": [
      "\u001b[0;31m\u001b[0m",
      "\u001b[0;31mValueError\u001b[0mTraceback (most recent call last)",
      "\u001b[0;32m<ipython-input-135-713e5012fb4e>\u001b[0m in \u001b[0;36m<module>\u001b[0;34m()\u001b[0m\n\u001b[1;32m      5\u001b[0m                                 })\n\u001b[1;32m      6\u001b[0m \u001b[0muser_assessment_similarity_measure\u001b[0m\u001b[0;34m.\u001b[0m\u001b[0mcalculate_cosine_similarity\u001b[0m\u001b[0;34m(\u001b[0m\u001b[0;34m)\u001b[0m\u001b[0;34m\u001b[0m\u001b[0m\n\u001b[0;32m----> 7\u001b[0;31m \u001b[0muser_assessment_similarity_measure\u001b[0m\u001b[0;34m.\u001b[0m\u001b[0mcalculate_svd_similarity\u001b[0m\u001b[0;34m(\u001b[0m\u001b[0;34m)\u001b[0m\u001b[0;34m\u001b[0m\u001b[0m\n\u001b[0m",
      "\u001b[0;32m<ipython-input-134-9f39a9c35cd2>\u001b[0m in \u001b[0;36mcalculate_svd_similarity\u001b[0;34m(self, full_matrix, dim_size)\u001b[0m\n\u001b[1;32m     70\u001b[0m         \u001b[0;31m# re_create and check MSE to see if it worked!\u001b[0m\u001b[0;34m\u001b[0m\u001b[0;34m\u001b[0m\u001b[0m\n\u001b[1;32m     71\u001b[0m         \u001b[0msigma\u001b[0m \u001b[0;34m=\u001b[0m \u001b[0mnp\u001b[0m\u001b[0;34m.\u001b[0m\u001b[0mdiag\u001b[0m\u001b[0;34m(\u001b[0m\u001b[0mS\u001b[0m\u001b[0;34m)\u001b[0m\u001b[0;34m\u001b[0m\u001b[0m\n\u001b[0;32m---> 72\u001b[0;31m         \u001b[0mself\u001b[0m\u001b[0;34m.\u001b[0m\u001b[0mscores_predictions\u001b[0m \u001b[0;34m=\u001b[0m \u001b[0mnp\u001b[0m\u001b[0;34m.\u001b[0m\u001b[0mdot\u001b[0m\u001b[0;34m(\u001b[0m\u001b[0mnp\u001b[0m\u001b[0;34m.\u001b[0m\u001b[0mdot\u001b[0m\u001b[0;34m(\u001b[0m\u001b[0mU\u001b[0m\u001b[0;34m[\u001b[0m\u001b[0;34m:\u001b[0m\u001b[0;34m,\u001b[0m \u001b[0;34m:\u001b[0m\u001b[0mdim_size\u001b[0m\u001b[0;34m]\u001b[0m\u001b[0;34m,\u001b[0m \u001b[0msigma\u001b[0m\u001b[0;34m[\u001b[0m\u001b[0;34m:\u001b[0m\u001b[0mdim_size\u001b[0m\u001b[0;34m]\u001b[0m\u001b[0;34m)\u001b[0m\u001b[0;34m,\u001b[0m \u001b[0mV\u001b[0m\u001b[0;34m[\u001b[0m\u001b[0;34m:\u001b[0m\u001b[0mdim_size\u001b[0m\u001b[0;34m,\u001b[0m \u001b[0;34m:\u001b[0m\u001b[0;34m]\u001b[0m\u001b[0;34m)\u001b[0m \u001b[0;34m+\u001b[0m \u001b[0mscores_mean\u001b[0m\u001b[0;34m.\u001b[0m\u001b[0mT\u001b[0m\u001b[0;34m\u001b[0m\u001b[0m\n\u001b[0m\u001b[1;32m     73\u001b[0m         \u001b[0;32mfrom\u001b[0m \u001b[0msklearn\u001b[0m\u001b[0;34m.\u001b[0m\u001b[0mmetrics\u001b[0m \u001b[0;32mimport\u001b[0m \u001b[0mmean_squared_error\u001b[0m\u001b[0;34m\u001b[0m\u001b[0m\n\u001b[1;32m     74\u001b[0m         \u001b[0mmse\u001b[0m \u001b[0;34m=\u001b[0m \u001b[0mmean_squared_error\u001b[0m\u001b[0;34m(\u001b[0m\u001b[0mA\u001b[0m\u001b[0;34m,\u001b[0m \u001b[0mA_k\u001b[0m\u001b[0;34m)\u001b[0m\u001b[0;34m\u001b[0m\u001b[0m\n",
      "\u001b[0;31mValueError\u001b[0m: shapes (54,54) and (20,3114) not aligned: 54 (dim 1) != 20 (dim 0)"
     ]
    }
   ],
   "source": [
    "user_assessment_similarity_measure = SimilarityMeasure({\n",
    "                                'dataframe' : user_assessment_scores,\n",
    "                                'index_column' : 'user_handle', 'columns_column' : 'assessment_tag',\n",
    "                                'values_column' : 'user_assessment_score'\n",
    "                                })\n",
    "user_assessment_similarity_measure.calculate_cosine_similarity()\n",
    "user_assessment_similarity_measure.calculate_svd_similarity()"
   ]
  },
  {
   "cell_type": "code",
   "execution_count": 131,
   "metadata": {},
   "outputs": [
    {
     "name": "stdout",
     "output_type": "stream",
     "text": [
      "(array([2752], dtype=int64),)\n",
      "             0\n",
      "9460  0.841721\n",
      "8412  0.789517\n",
      "5236  0.788519\n",
      "5694  0.766058\n",
      "1494  0.763504\n",
      "4048  0.729360\n",
      "840   0.709927\n",
      "9177  0.703223\n",
      "7997  0.696422\n",
      "             0\n",
      "8412  0.872304\n",
      "5694  0.792410\n",
      "5236  0.774964\n",
      "9460  0.767698\n",
      "840   0.758704\n",
      "9177  0.752271\n",
      "1494  0.748666\n",
      "7246  0.746476\n",
      "7997  0.744728\n"
     ]
    },
    {
     "name": "stderr",
     "output_type": "stream",
     "text": [
      "C:\\Python27\\lib\\site-packages\\ipykernel_launcher.py:83: RuntimeWarning: invalid value encountered in divide\n"
     ]
    }
   ],
   "source": [
    "print(user_assessment_similarity_measure.get_cosine_similar_users('8887'))\n",
    "print(user_assessment_similarity_measure.get_svd_similar_users('8887'))"
   ]
  },
  {
   "cell_type": "code",
   "execution_count": 68,
   "metadata": {},
   "outputs": [
    {
     "data": {
      "text/plain": [
       "Index([u'user_handle', u'interest_tag', u'date_followed'], dtype='object')"
      ]
     },
     "execution_count": 68,
     "metadata": {},
     "output_type": "execute_result"
    }
   ],
   "source": [
    "user_interests.columns"
   ]
  },
  {
   "cell_type": "code",
   "execution_count": 92,
   "metadata": {},
   "outputs": [
    {
     "name": "stdout",
     "output_type": "stream",
     "text": [
      "Cosine similarity calculated!\n"
     ]
    }
   ],
   "source": [
    "user_interest_similarity_measure = SimilarityMeasure({\n",
    "                                'dataframe' : user_interests[['user_handle', 'interest_tag']].drop_duplicates(),\n",
    "                                'index_column' : 'user_handle', 'columns_column' : 'interest_tag'\n",
    "                                })\n",
    "user_interest_similarity_measure.calculate_cosine_similarity()\n",
    "user_interest_similarity_measure.calculate_svd_similarity(dim_size = 100)"
   ]
  },
  {
   "cell_type": "code",
   "execution_count": 93,
   "metadata": {},
   "outputs": [
    {
     "name": "stdout",
     "output_type": "stream",
     "text": [
      "(array([8764], dtype=int64),)\n",
      "             0\n",
      "4616  0.928571\n",
      "1090  0.925820\n",
      "8595  0.902007\n",
      "3576  0.897085\n",
      "2616  0.897085\n",
      "6701  0.894427\n",
      "7809  0.887244\n",
      "6581  0.887244\n",
      "3327  0.877328\n",
      "             0\n",
      "1090  0.786731\n",
      "7809  0.772661\n",
      "4616  0.621427\n",
      "8791  0.617061\n",
      "9662  0.608915\n",
      "9188  0.589792\n",
      "6547  0.580396\n",
      "271   0.535104\n",
      "8146  0.524825\n"
     ]
    }
   ],
   "source": [
    "print(user_interest_similarity_measure.get_cosine_similar_users('8887'))\n",
    "print(user_interest_similarity_measure.get_svd_similar_users('8887'))"
   ]
  },
  {
   "cell_type": "code",
   "execution_count": 69,
   "metadata": {},
   "outputs": [
    {
     "name": "stdout",
     "output_type": "stream",
     "text": [
      "Index([u'user_handle', u'view_date', u'course_id', u'author_handle', u'level',\n",
      "       u'view_time_seconds'],\n",
      "      dtype='object')\n",
      "Index([u'course_id', u'course_tags'], dtype='object')\n"
     ]
    }
   ],
   "source": [
    "print(user_course_views.columns)\n",
    "print(course_tags.columns)"
   ]
  },
  {
   "cell_type": "code",
   "execution_count": 207,
   "metadata": {},
   "outputs": [],
   "source": [
    "user_courses_merge = pd.merge(left = user_course_views, right = course_tags, on = ['course_id'])\n",
    "grouped_users_course_tags = user_courses_merge[['user_handle', 'course_tags', 'view_time_seconds']]\\\n",
    "                                .groupby(['user_handle', 'course_tags'])\n",
    "meaned_group_user_courses_tag = grouped_users_course_tags.agg('mean').reset_index()\n",
    "user_courseview_tag_similarity_measure = SimilarityMeasure({\n",
    "                                'dataframe' : meaned_group_user_courses_tag[['user_handle', 'course_tags', \n",
    "                                                                             'view_time_seconds']],\n",
    "                                'index_column' : 'user_handle', 'columns_column' : 'course_tags',\n",
    "                                'values_column' : 'view_time_seconds'\n",
    "                                })\n",
    "user_courseview_tag_similarity_measure.calculate_svd_similarity()\n",
    "user_courseview_tag_similarity_measure.calculate_cosine_similarity()"
   ]
  },
  {
   "cell_type": "code",
   "execution_count": 87,
   "metadata": {},
   "outputs": [
    {
     "name": "stdout",
     "output_type": "stream",
     "text": [
      "(array([7684], dtype=int64),)\n",
      "             0\n",
      "9572  0.464560\n",
      "9714  0.440287\n",
      "7077  0.440287\n",
      "5943  0.440287\n",
      "4550  0.440287\n",
      "5255  0.438963\n",
      "3482  0.437138\n",
      "2509  0.428516\n",
      "3923  0.427342\n",
      "             0\n",
      "9120  0.823465\n",
      "5111  0.823465\n",
      "835   0.823465\n",
      "4031  0.823465\n",
      "8406  0.823465\n",
      "2719  0.823465\n",
      "8465  0.802641\n",
      "2060  0.802641\n",
      "2010  0.802641\n"
     ]
    }
   ],
   "source": [
    "print(user_courseview_tag_similarity_measure.get_cosine_similar_users('8887'))\n",
    "print(user_courseview_tag_similarity_measure.get_svd_similar_users('8887'))"
   ]
  },
  {
   "cell_type": "code",
   "execution_count": 212,
   "metadata": {},
   "outputs": [],
   "source": [
    "grouped_users_courses = user_course_views[['user_handle', 'course_id', 'view_time_seconds']]\\\n",
    "                                .groupby(['user_handle', 'course_id'])\n",
    "meaned_group_users_courses = grouped_users_courses.agg('mean').reset_index()\n",
    "user_courseview_similarity_measure = SimilarityMeasure({\n",
    "                                'dataframe' : meaned_group_users_courses[['user_handle', 'course_id', 'view_time_seconds']],\n",
    "                                'index_column' : 'user_handle', 'columns_column' : 'course_id',\n",
    "                                'values_column' : 'view_time_seconds'\n",
    "                                })\n",
    "user_courseview_similarity_measure.calculate_cosine_similarity()\n",
    "user_courseview_similarity_measure.calculate_svd_similarity(dim_size = 150)"
   ]
  },
  {
   "cell_type": "code",
   "execution_count": 95,
   "metadata": {},
   "outputs": [
    {
     "name": "stdout",
     "output_type": "stream",
     "text": [
      "(array([7684], dtype=int64),)\n",
      "             0\n",
      "7077  0.608958\n",
      "9714  0.608958\n",
      "4550  0.608958\n",
      "5255  0.608040\n",
      "3482  0.604645\n",
      "4240  0.582781\n",
      "6806  0.574705\n",
      "9241  0.544273\n",
      "9572  0.522031\n",
      "             0\n",
      "3482  0.816961\n",
      "4240  0.816506\n",
      "9714  0.816489\n",
      "4550  0.816489\n",
      "7077  0.816489\n",
      "5255  0.816479\n",
      "6806  0.815627\n",
      "9241  0.815276\n",
      "5425  0.812940\n"
     ]
    }
   ],
   "source": [
    "print(user_courseview_similarity_measure.get_cosine_similar_users('8887'))\n",
    "print(user_courseview_similarity_measure.get_svd_similar_users('8887'))"
   ]
  },
  {
   "cell_type": "code",
   "execution_count": 164,
   "metadata": {},
   "outputs": [
    {
     "name": "stdout",
     "output_type": "stream",
     "text": [
      "Estimating biases using als...\n",
      "Computing the pearson_baseline similarity matrix...\n",
      "Done computing similarity matrix.\n",
      "RMSE: 0.9167\n"
     ]
    },
    {
     "data": {
      "text/plain": [
       "0.9166585817951671"
      ]
     },
     "execution_count": 164,
     "metadata": {},
     "output_type": "execute_result"
    }
   ],
   "source": [
    "from surprise import KNNBaseline\n",
    "from surprise import Dataset\n",
    "from surprise import accuracy\n",
    "from surprise.model_selection import train_test_split\n",
    "from surprise.model_selection import GridSearchCV\n",
    "\n",
    "\n",
    "reader = Reader(rating_scale=(0, 300))\n",
    "data = Dataset.load_from_df(user_assessment_scores[['user_handle', 'assessment_tag', 'user_assessment_score']], reader)\n",
    "\n",
    "# We'll use the famous SVD algorithm.\n",
    "sim_options = {'name': 'pearson_baseline', 'user_based': False}\n",
    "algo = KNNBaseline(sim_options=sim_options)\n",
    "\n",
    "gs = GridSearchCV(KNNBaseline, param_grid, measures=['rmse', 'mae'], cv=3)\n",
    "\n",
    "gs.fit(data)\n",
    "\n",
    "# best RMSE score\n",
    "print(gs.best_score['rmse'])\n",
    "\n",
    "# combination of parameters that gave the best RMSE score\n",
    "print(gs.best_params['rmse'])\n",
    "\n",
    "\n",
    "# Train the algorithm on the trainset, and predict ratings for the testset\n",
    "algo.fit(trainset)\n",
    "predictions = algo.test(testset)\n",
    "\n",
    "# Then compute RMSE\n",
    "accuracy.rmse(predictions)\n"
   ]
  },
  {
   "cell_type": "code",
   "execution_count": 272,
   "metadata": {},
   "outputs": [
    {
     "data": {
      "text/plain": [
       "array([[1.        , 0.26153846, 0.27586207, ..., 0.375     , 1.        ,\n",
       "        0.375     ],\n",
       "       [0.26153846, 1.        , 0.33333333, ..., 0.42857143, 0.41666667,\n",
       "        0.5       ],\n",
       "       [0.27586207, 0.33333333, 1.        , ..., 0.5       , 0.5       ,\n",
       "        0.45454545],\n",
       "       ...,\n",
       "       [0.375     , 0.42857143, 0.5       , ..., 1.        , 1.        ,\n",
       "        0.1875    ],\n",
       "       [1.        , 0.41666667, 0.5       , ..., 1.        , 1.        ,\n",
       "        0.09090909],\n",
       "       [0.375     , 0.5       , 0.45454545, ..., 0.1875    , 0.09090909,\n",
       "        1.        ]])"
      ]
     },
     "execution_count": 272,
     "metadata": {},
     "output_type": "execute_result"
    }
   ],
   "source": [
    "algo.get_neighbors(400, k=10)\n",
    "algo.sim"
   ]
  },
  {
   "cell_type": "code",
   "execution_count": 184,
   "metadata": {},
   "outputs": [
    {
     "name": "stdout",
     "output_type": "stream",
     "text": [
      "Computing the msd similarity matrix...\n",
      "Done computing similarity matrix.\n",
      "RMSE: 0.9618\n"
     ]
    },
    {
     "data": {
      "text/plain": [
       "0.9617506221472545"
      ]
     },
     "execution_count": 184,
     "metadata": {},
     "output_type": "execute_result"
    }
   ],
   "source": [
    "from surprise import KNNWithMeans\n",
    "from surprise import Dataset\n",
    "from surprise import accuracy\n",
    "from surprise.model_selection import train_test_split\n",
    "\n",
    "reader = Reader(rating_scale=(0, 300))\n",
    "data = Dataset.load_from_df(user_assessment_scores[['user_handle', 'assessment_tag', 'user_assessment_score']], reader)\n",
    "\n",
    "# sample random trainset and testset\n",
    "# test set is made of 25% of the ratings.\n",
    "trainset, testset = train_test_split(data, test_size=.25)\n",
    "\n",
    "# We'll use the famous SVD algorithm.\n",
    "sim_options = {'name': 'pearson_baseline', 'user_based': False}\n",
    "algo = KNNWithMeans()\n",
    "\n",
    "# Train the algorithm on the trainset, and predict ratings for the testset\n",
    "algo.fit(trainset)\n",
    "predictions = algo.test(testset)\n",
    "\n",
    "# Then compute RMSE\n",
    "accuracy.rmse(predictions)\n"
   ]
  },
  {
   "cell_type": "code",
   "execution_count": 194,
   "metadata": {},
   "outputs": [
    {
     "data": {
      "text/plain": [
       "array([[1.        , 0.26153846, 0.27586207, ..., 0.375     , 1.        ,\n",
       "        0.375     ],\n",
       "       [0.26153846, 1.        , 0.33333333, ..., 0.42857143, 0.41666667,\n",
       "        0.5       ],\n",
       "       [0.27586207, 0.33333333, 1.        , ..., 0.5       , 0.5       ,\n",
       "        0.45454545],\n",
       "       ...,\n",
       "       [0.375     , 0.42857143, 0.5       , ..., 1.        , 1.        ,\n",
       "        0.1875    ],\n",
       "       [1.        , 0.41666667, 0.5       , ..., 1.        , 1.        ,\n",
       "        0.09090909],\n",
       "       [0.375     , 0.5       , 0.45454545, ..., 0.1875    , 0.09090909,\n",
       "        1.        ]])"
      ]
     },
     "execution_count": 194,
     "metadata": {},
     "output_type": "execute_result"
    }
   ],
   "source": [
    "algo.get_neighbors(400, k=10)\n",
    "algo.sim"
   ]
  },
  {
   "cell_type": "code",
   "execution_count": 195,
   "metadata": {},
   "outputs": [
    {
     "name": "stdout",
     "output_type": "stream",
     "text": [
      "Estimating biases using als...\n",
      "Computing the pearson_baseline similarity matrix...\n",
      "Done computing similarity matrix.\n",
      "Estimating biases using als...\n",
      "Computing the pearson_baseline similarity matrix...\n",
      "Done computing similarity matrix.\n",
      "Estimating biases using als...\n",
      "Computing the pearson_baseline similarity matrix...\n",
      "Done computing similarity matrix.\n",
      "Estimating biases using als...\n",
      "Computing the pearson_baseline similarity matrix...\n",
      "Done computing similarity matrix.\n",
      "Estimating biases using als...\n",
      "Computing the pearson_baseline similarity matrix...\n",
      "Done computing similarity matrix.\n",
      "Estimating biases using als...\n",
      "Computing the pearson_baseline similarity matrix...\n",
      "Done computing similarity matrix.\n",
      "Estimating biases using als...\n",
      "Computing the pearson_baseline similarity matrix...\n",
      "Done computing similarity matrix.\n",
      "Estimating biases using als...\n",
      "Computing the pearson_baseline similarity matrix...\n",
      "Done computing similarity matrix.\n",
      "Estimating biases using als...\n",
      "Computing the pearson_baseline similarity matrix...\n",
      "Done computing similarity matrix.\n",
      "Estimating biases using als...\n",
      "Computing the pearson_baseline similarity matrix...\n",
      "Done computing similarity matrix.\n"
     ]
    }
   ],
   "source": [
    "reader = Reader(rating_scale=(0, 300))\n",
    "data = Dataset.load_from_df(user_assessment_scores[['user_handle', 'assessment_tag', 'user_assessment_score']], reader)\n",
    "\n",
    "benchmark = []\n",
    "sim_options = {'name': 'pearson_baseline'}\n",
    "for algorithm in [KNNBaseline(sim_options = sim_options), KNNBasic(sim_options = sim_options), KNNWithMeans(), KNNWithZScore()]:\n",
    "    # Perform cross validation\n",
    "    results = cross_validate(algorithm, data, measures=['RMSE'], cv = 10, verbose=False)\n",
    "\n",
    "    # Get results & append algorithm name\n",
    "    tmp = pd.DataFrame.from_dict(results).mean(axis=0)\n",
    "    tmp = tmp.append(pd.Series([str(algorithm).split(' ')[0].split('.')[-1]], index=['Algorithm']))\n",
    "    benchmark.append(tmp)"
   ]
  },
  {
   "cell_type": "code",
   "execution_count": 210,
   "metadata": {},
   "outputs": [],
   "source": [
    "def findOptimalKNNAlgorithm(dataframe, user_column, item_column, score_column):\n",
    "    \"\"\"This method takes in a dataframe and the columns of user, item, and score. \n",
    "        This method will optimize for different KNN algorithms by using 10 fold CV and prints the results.\"\"\"\n",
    "    \n",
    "    reader = Reader(rating_scale=(dataframe[score_column].min(), dataframe[score_column].max()))\n",
    "    data = Dataset.load_from_df(dataframe[[user_column, item_column, score_column]], reader)\n",
    "    \n",
    "    benchmark = []\n",
    "    \n",
    "    # we use pearson baseline beacuse unlike other meausures it does not consider only common values.\n",
    "    # https://surprise.readthedocs.io/en/stable/similarities.html#surprise.similarities.pearson_baseline\n",
    "    sim_options = {'name': 'pearson_baseline'}\n",
    "    \n",
    "    # We are only using KNN algorithm here because similarity measure and getting neighbors is used by only these algorithms\n",
    "    algorithms = [KNNBaseline(sim_options = sim_options), KNNBasic(sim_options = sim_options), \n",
    "                  KNNWithMeans(), KNNWithZScore()]\n",
    "    for algorithm in algorithms:\n",
    "        # Perform cross validation. Number of folds = 10. We are using RMSE as performance measure\n",
    "        results = cross_validate(algorithm, data, measures=['RMSE'], cv = 10, verbose=False)\n",
    "\n",
    "        # Get results & append algorithm name\n",
    "        tmp = pd.DataFrame.from_dict(results).mean(axis=0)\n",
    "        tmp = tmp.append(pd.Series([str(algorithm).split(' ')[0].split('.')[-1]], index=['Algorithm']))\n",
    "        benchmark.append(tmp)\n",
    "    print(pd.DataFrame(benchmark).set_index('Algorithm').sort_values('test_rmse'))"
   ]
  },
  {
   "cell_type": "markdown",
   "metadata": {},
   "source": [
    "We will find optimal values for each of the similarities we are finding."
   ]
  },
  {
   "cell_type": "code",
   "execution_count": 215,
   "metadata": {},
   "outputs": [
    {
     "name": "stdout",
     "output_type": "stream",
     "text": [
      "Estimating biases using als...\n",
      "Computing the pearson_baseline similarity matrix...\n",
      "Done computing similarity matrix.\n",
      "Estimating biases using als...\n",
      "Computing the pearson_baseline similarity matrix...\n",
      "Done computing similarity matrix.\n",
      "Estimating biases using als...\n",
      "Computing the pearson_baseline similarity matrix...\n",
      "Done computing similarity matrix.\n",
      "Estimating biases using als...\n",
      "Computing the pearson_baseline similarity matrix...\n",
      "Done computing similarity matrix.\n",
      "Estimating biases using als...\n",
      "Computing the pearson_baseline similarity matrix...\n",
      "Done computing similarity matrix.\n",
      "Estimating biases using als...\n",
      "Computing the pearson_baseline similarity matrix...\n",
      "Done computing similarity matrix.\n",
      "Estimating biases using als...\n",
      "Computing the pearson_baseline similarity matrix...\n",
      "Done computing similarity matrix.\n",
      "Estimating biases using als...\n",
      "Computing the pearson_baseline similarity matrix...\n",
      "Done computing similarity matrix.\n",
      "Estimating biases using als...\n",
      "Computing the pearson_baseline similarity matrix...\n",
      "Done computing similarity matrix.\n",
      "Estimating biases using als...\n",
      "Computing the pearson_baseline similarity matrix...\n",
      "Done computing similarity matrix.\n",
      "Estimating biases using als...\n",
      "Computing the pearson_baseline similarity matrix...\n",
      "Done computing similarity matrix.\n",
      "Estimating biases using als...\n",
      "Computing the pearson_baseline similarity matrix...\n",
      "Done computing similarity matrix.\n",
      "Estimating biases using als...\n",
      "Computing the pearson_baseline similarity matrix...\n",
      "Done computing similarity matrix.\n",
      "Estimating biases using als...\n",
      "Computing the pearson_baseline similarity matrix...\n",
      "Done computing similarity matrix.\n",
      "Estimating biases using als...\n",
      "Computing the pearson_baseline similarity matrix...\n",
      "Done computing similarity matrix.\n",
      "Estimating biases using als...\n",
      "Computing the pearson_baseline similarity matrix...\n",
      "Done computing similarity matrix.\n",
      "Estimating biases using als...\n",
      "Computing the pearson_baseline similarity matrix...\n",
      "Done computing similarity matrix.\n",
      "Estimating biases using als...\n",
      "Computing the pearson_baseline similarity matrix...\n",
      "Done computing similarity matrix.\n",
      "Estimating biases using als...\n",
      "Computing the pearson_baseline similarity matrix...\n",
      "Done computing similarity matrix.\n",
      "Estimating biases using als...\n",
      "Computing the pearson_baseline similarity matrix...\n",
      "Done computing similarity matrix.\n",
      "Computing the msd similarity matrix...\n",
      "Done computing similarity matrix.\n",
      "Computing the msd similarity matrix...\n",
      "Done computing similarity matrix.\n",
      "Computing the msd similarity matrix...\n",
      "Done computing similarity matrix.\n",
      "Computing the msd similarity matrix...\n",
      "Done computing similarity matrix.\n",
      "Computing the msd similarity matrix...\n",
      "Done computing similarity matrix.\n",
      "Computing the msd similarity matrix...\n",
      "Done computing similarity matrix.\n",
      "Computing the msd similarity matrix...\n",
      "Done computing similarity matrix.\n",
      "Computing the msd similarity matrix...\n",
      "Done computing similarity matrix.\n",
      "Computing the msd similarity matrix...\n",
      "Done computing similarity matrix.\n",
      "Computing the msd similarity matrix...\n",
      "Done computing similarity matrix.\n",
      "Computing the msd similarity matrix...\n",
      "Done computing similarity matrix.\n",
      "Computing the msd similarity matrix...\n",
      "Done computing similarity matrix.\n",
      "Computing the msd similarity matrix...\n",
      "Done computing similarity matrix.\n",
      "Computing the msd similarity matrix...\n",
      "Done computing similarity matrix.\n",
      "Computing the msd similarity matrix...\n",
      "Done computing similarity matrix.\n",
      "Computing the msd similarity matrix...\n",
      "Done computing similarity matrix.\n",
      "Computing the msd similarity matrix...\n",
      "Done computing similarity matrix.\n",
      "Computing the msd similarity matrix...\n",
      "Done computing similarity matrix.\n",
      "Computing the msd similarity matrix...\n",
      "Done computing similarity matrix.\n",
      "Computing the msd similarity matrix...\n",
      "Done computing similarity matrix.\n",
      "               fit_time  test_rmse  test_time\n",
      "Algorithm                                    \n",
      "KNNBaseline      0.8282  53.296395     0.1879\n",
      "KNNBasic         0.8336  54.349364     0.1671\n",
      "KNNWithMeans     0.4536  56.345979     0.1658\n",
      "KNNWithZScore    0.5439  57.800187     0.1905\n"
     ]
    }
   ],
   "source": [
    "findOptimalKNNAlgorithm(user_assessment_scores, 'user_handle', 'assessment_tag', 'user_assessment_score')"
   ]
  },
  {
   "cell_type": "code",
   "execution_count": 214,
   "metadata": {},
   "outputs": [
    {
     "name": "stdout",
     "output_type": "stream",
     "text": [
      "Estimating biases using als...\n",
      "Computing the pearson_baseline similarity matrix...\n"
     ]
    },
    {
     "name": "stderr",
     "output_type": "stream",
     "text": [
      "C:\\Python27\\lib\\site-packages\\surprise\\prediction_algorithms\\algo_base.py:293: RuntimeWarning: invalid value encountered in double_scalars\n",
      "  sim = construction_func[name](*args)\n"
     ]
    },
    {
     "name": "stdout",
     "output_type": "stream",
     "text": [
      "Done computing similarity matrix.\n",
      "Estimating biases using als...\n",
      "Computing the pearson_baseline similarity matrix...\n",
      "Done computing similarity matrix.\n",
      "Estimating biases using als...\n",
      "Computing the pearson_baseline similarity matrix...\n",
      "Done computing similarity matrix.\n",
      "Estimating biases using als...\n",
      "Computing the pearson_baseline similarity matrix...\n",
      "Done computing similarity matrix.\n",
      "Estimating biases using als...\n",
      "Computing the pearson_baseline similarity matrix...\n",
      "Done computing similarity matrix.\n",
      "Estimating biases using als...\n",
      "Computing the pearson_baseline similarity matrix...\n",
      "Done computing similarity matrix.\n",
      "Estimating biases using als...\n",
      "Computing the pearson_baseline similarity matrix...\n",
      "Done computing similarity matrix.\n",
      "Estimating biases using als...\n",
      "Computing the pearson_baseline similarity matrix...\n",
      "Done computing similarity matrix.\n",
      "Estimating biases using als...\n",
      "Computing the pearson_baseline similarity matrix...\n",
      "Done computing similarity matrix.\n",
      "Estimating biases using als...\n",
      "Computing the pearson_baseline similarity matrix...\n",
      "Done computing similarity matrix.\n",
      "Estimating biases using als...\n",
      "Computing the pearson_baseline similarity matrix...\n",
      "Done computing similarity matrix.\n",
      "Estimating biases using als...\n",
      "Computing the pearson_baseline similarity matrix...\n",
      "Done computing similarity matrix.\n",
      "Estimating biases using als...\n",
      "Computing the pearson_baseline similarity matrix...\n",
      "Done computing similarity matrix.\n",
      "Estimating biases using als...\n",
      "Computing the pearson_baseline similarity matrix...\n",
      "Done computing similarity matrix.\n",
      "Estimating biases using als...\n",
      "Computing the pearson_baseline similarity matrix...\n",
      "Done computing similarity matrix.\n",
      "Estimating biases using als...\n",
      "Computing the pearson_baseline similarity matrix...\n",
      "Done computing similarity matrix.\n",
      "Estimating biases using als...\n",
      "Computing the pearson_baseline similarity matrix...\n",
      "Done computing similarity matrix.\n",
      "Estimating biases using als...\n",
      "Computing the pearson_baseline similarity matrix...\n",
      "Done computing similarity matrix.\n",
      "Estimating biases using als...\n",
      "Computing the pearson_baseline similarity matrix...\n",
      "Done computing similarity matrix.\n",
      "Estimating biases using als...\n",
      "Computing the pearson_baseline similarity matrix...\n",
      "Done computing similarity matrix.\n",
      "Computing the msd similarity matrix...\n",
      "Done computing similarity matrix.\n",
      "Computing the msd similarity matrix...\n",
      "Done computing similarity matrix.\n",
      "Computing the msd similarity matrix...\n",
      "Done computing similarity matrix.\n",
      "Computing the msd similarity matrix...\n",
      "Done computing similarity matrix.\n",
      "Computing the msd similarity matrix...\n",
      "Done computing similarity matrix.\n",
      "Computing the msd similarity matrix...\n",
      "Done computing similarity matrix.\n",
      "Computing the msd similarity matrix...\n",
      "Done computing similarity matrix.\n",
      "Computing the msd similarity matrix...\n",
      "Done computing similarity matrix.\n",
      "Computing the msd similarity matrix...\n",
      "Done computing similarity matrix.\n",
      "Computing the msd similarity matrix...\n",
      "Done computing similarity matrix.\n",
      "Computing the msd similarity matrix...\n"
     ]
    },
    {
     "name": "stderr",
     "output_type": "stream",
     "text": [
      "C:\\Python27\\lib\\site-packages\\surprise\\prediction_algorithms\\knns.py:404: RuntimeWarning: invalid value encountered in double_scalars\n",
      "  sum_ratings += sim * (r - self.means[nb]) / self.sigmas[nb]\n"
     ]
    },
    {
     "name": "stdout",
     "output_type": "stream",
     "text": [
      "Done computing similarity matrix.\n",
      "Computing the msd similarity matrix...\n",
      "Done computing similarity matrix.\n",
      "Computing the msd similarity matrix...\n",
      "Done computing similarity matrix.\n",
      "Computing the msd similarity matrix...\n",
      "Done computing similarity matrix.\n",
      "Computing the msd similarity matrix...\n",
      "Done computing similarity matrix.\n",
      "Computing the msd similarity matrix...\n",
      "Done computing similarity matrix.\n",
      "Computing the msd similarity matrix...\n",
      "Done computing similarity matrix.\n",
      "Computing the msd similarity matrix...\n",
      "Done computing similarity matrix.\n",
      "Computing the msd similarity matrix...\n",
      "Done computing similarity matrix.\n",
      "Computing the msd similarity matrix...\n",
      "Done computing similarity matrix.\n",
      "               fit_time  test_rmse  test_time\n",
      "Algorithm                                    \n",
      "KNNBaseline     73.6688        0.0    19.7363\n",
      "KNNBasic        72.8186        0.0    18.6017\n",
      "KNNWithMeans    14.6456        0.0    20.2168\n",
      "KNNWithZScore   15.7073        0.0    22.4790\n"
     ]
    }
   ],
   "source": [
    "cleaned_user_interest_df = user_interests[['user_handle', 'interest_tag']].drop_duplicates()\n",
    "cleaned_user_interest_df['interest_val'] = 1\n",
    "\n",
    "findOptimalKNNAlgorithm(cleaned_user_interest_df, 'user_handle', 'interest_tag', 'interest_val')"
   ]
  },
  {
   "cell_type": "markdown",
   "metadata": {},
   "source": [
    "The below cell takes time to run. Upto 5 Mins."
   ]
  },
  {
   "cell_type": "code",
   "execution_count": null,
   "metadata": {},
   "outputs": [
    {
     "name": "stdout",
     "output_type": "stream",
     "text": [
      "Estimating biases using als...\n",
      "Computing the pearson_baseline similarity matrix...\n",
      "Done computing similarity matrix.\n",
      "Estimating biases using als...\n",
      "Computing the pearson_baseline similarity matrix...\n",
      "Done computing similarity matrix.\n",
      "Estimating biases using als...\n",
      "Computing the pearson_baseline similarity matrix...\n",
      "Done computing similarity matrix.\n",
      "Estimating biases using als...\n",
      "Computing the pearson_baseline similarity matrix...\n",
      "Done computing similarity matrix.\n"
     ]
    }
   ],
   "source": [
    "findOptimalKNNAlgorithm(meaned_group_user_courses_tag, 'user_handle', 'course_tags', 'view_time_seconds')"
   ]
  },
  {
   "cell_type": "markdown",
   "metadata": {},
   "source": [
    "The below cell takes time to run. Upto 5 Mins."
   ]
  },
  {
   "cell_type": "code",
   "execution_count": 213,
   "metadata": {},
   "outputs": [
    {
     "name": "stdout",
     "output_type": "stream",
     "text": [
      "Estimating biases using als...\n",
      "Computing the pearson_baseline similarity matrix...\n",
      "Done computing similarity matrix.\n",
      "Estimating biases using als...\n",
      "Computing the pearson_baseline similarity matrix...\n",
      "Done computing similarity matrix.\n",
      "Estimating biases using als...\n",
      "Computing the pearson_baseline similarity matrix...\n",
      "Done computing similarity matrix.\n",
      "Estimating biases using als...\n",
      "Computing the pearson_baseline similarity matrix...\n",
      "Done computing similarity matrix.\n",
      "Estimating biases using als...\n",
      "Computing the pearson_baseline similarity matrix...\n",
      "Done computing similarity matrix.\n",
      "Estimating biases using als...\n",
      "Computing the pearson_baseline similarity matrix...\n",
      "Done computing similarity matrix.\n",
      "Estimating biases using als...\n",
      "Computing the pearson_baseline similarity matrix...\n",
      "Done computing similarity matrix.\n",
      "Estimating biases using als...\n",
      "Computing the pearson_baseline similarity matrix...\n",
      "Done computing similarity matrix.\n",
      "Estimating biases using als...\n",
      "Computing the pearson_baseline similarity matrix...\n",
      "Done computing similarity matrix.\n",
      "Estimating biases using als...\n",
      "Computing the pearson_baseline similarity matrix...\n",
      "Done computing similarity matrix.\n",
      "Estimating biases using als...\n",
      "Computing the pearson_baseline similarity matrix...\n",
      "Done computing similarity matrix.\n",
      "Estimating biases using als...\n",
      "Computing the pearson_baseline similarity matrix...\n",
      "Done computing similarity matrix.\n",
      "Estimating biases using als...\n",
      "Computing the pearson_baseline similarity matrix...\n",
      "Done computing similarity matrix.\n",
      "Estimating biases using als...\n",
      "Computing the pearson_baseline similarity matrix...\n",
      "Done computing similarity matrix.\n",
      "Estimating biases using als...\n",
      "Computing the pearson_baseline similarity matrix...\n",
      "Done computing similarity matrix.\n",
      "Estimating biases using als...\n",
      "Computing the pearson_baseline similarity matrix...\n",
      "Done computing similarity matrix.\n",
      "Estimating biases using als...\n",
      "Computing the pearson_baseline similarity matrix...\n",
      "Done computing similarity matrix.\n",
      "Estimating biases using als...\n",
      "Computing the pearson_baseline similarity matrix...\n",
      "Done computing similarity matrix.\n",
      "Estimating biases using als...\n",
      "Computing the pearson_baseline similarity matrix...\n",
      "Done computing similarity matrix.\n",
      "Estimating biases using als...\n",
      "Computing the pearson_baseline similarity matrix...\n",
      "Done computing similarity matrix.\n",
      "Computing the msd similarity matrix...\n",
      "Done computing similarity matrix.\n",
      "Computing the msd similarity matrix...\n",
      "Done computing similarity matrix.\n",
      "Computing the msd similarity matrix...\n",
      "Done computing similarity matrix.\n",
      "Computing the msd similarity matrix...\n",
      "Done computing similarity matrix.\n",
      "Computing the msd similarity matrix...\n",
      "Done computing similarity matrix.\n",
      "Computing the msd similarity matrix...\n",
      "Done computing similarity matrix.\n",
      "Computing the msd similarity matrix...\n",
      "Done computing similarity matrix.\n",
      "Computing the msd similarity matrix...\n",
      "Done computing similarity matrix.\n",
      "Computing the msd similarity matrix...\n",
      "Done computing similarity matrix.\n",
      "Computing the msd similarity matrix...\n",
      "Done computing similarity matrix.\n",
      "Computing the msd similarity matrix...\n",
      "Done computing similarity matrix.\n",
      "Computing the msd similarity matrix...\n",
      "Done computing similarity matrix.\n",
      "Computing the msd similarity matrix...\n",
      "Done computing similarity matrix.\n",
      "Computing the msd similarity matrix...\n",
      "Done computing similarity matrix.\n",
      "Computing the msd similarity matrix...\n",
      "Done computing similarity matrix.\n",
      "Computing the msd similarity matrix...\n",
      "Done computing similarity matrix.\n",
      "Computing the msd similarity matrix...\n",
      "Done computing similarity matrix.\n",
      "Computing the msd similarity matrix...\n",
      "Done computing similarity matrix.\n",
      "Computing the msd similarity matrix...\n",
      "Done computing similarity matrix.\n",
      "Computing the msd similarity matrix...\n",
      "Done computing similarity matrix.\n",
      "               fit_time    test_rmse  test_time\n",
      "Algorithm                                      \n",
      "KNNBaseline      6.3947  1802.651166     1.7220\n",
      "KNNWithMeans     3.2588  1932.138020     1.6361\n",
      "KNNBasic         6.7662  1997.309037     1.5418\n",
      "KNNWithZScore    3.3072  1997.855448     1.7195\n"
     ]
    }
   ],
   "source": [
    "findOptimalKNNAlgorithm(meaned_group_users_courses, 'user_handle', 'course_id', 'view_time_seconds')"
   ]
  },
  {
   "cell_type": "markdown",
   "metadata": {},
   "source": [
    "KNNBaseline algorithm is best suited for all the similarities. We will use KNNBaseline and it's neighbors to get the smilar users in our data. Next let us try to optimize for the value of 'K' for our SVD similarity. The bigger values of K will result to slower predictions whereas small 'K' value will result to faster but less accurate predictions. We already have RMSE for each of the similarities we will try to optmise closer to those."
   ]
  },
  {
   "cell_type": "code",
   "execution_count": 267,
   "metadata": {},
   "outputs": [],
   "source": [
    "def find_optimize_value_of_k_SVD(dataframe, index_column, columns_column, values_column):\n",
    "    scores_matrix = dataframe.pivot(index = index_column, columns = columns_column, values = values_column)\n",
    "    scores_matrix = scores_matrix.fillna(0)\n",
    "    index_values = scores_matrix.index.values\n",
    "    # we need reindexed to calclulate the cosine similarities\n",
    "    reindexed_scores_matrix = scores_matrix.copy()\n",
    "    reindexed_scores_matrix.index = range(0, index_values.shape[0])\n",
    "\n",
    "    scores_mean = np.asarray([(np.mean(reindexed_scores_matrix, 1))]).T\n",
    "    normalised_mat = reindexed_scores_matrix - scores_mean\n",
    "    A = normalised_mat.T #/ np.sqrt(self.__reindexed_scores_matrix.shape[0] - 1)\n",
    "\n",
    "    # Using svd\n",
    "    U, S, V = np.linalg.svd(A, full_matrices = False)\n",
    "\n",
    "    dim_size = 1\n",
    "    k_vs_rmse = []\n",
    "    for dim_size in range(1, scores_mean.size[0], 2):\n",
    "        # re_create and check MSE to see if it worked!\n",
    "        S_k = np.diag(S[:dim_size])\n",
    "        U_k = U[:, :dim_size]\n",
    "        V_k = V[:dim_size, ]\n",
    "        A_k = np.dot(np.dot(U_k, S_k), V_k) + scores_mean.T\n",
    "        from sklearn.metrics import mean_squared_error\n",
    "        rmse = np.sqrt(mean_squared_error(A, A_k))\n",
    "        #print(rmse)\n",
    "        k_vs_rmse.append([dim_size, rmse])\n",
    "    scores_df = pd.DataFrame(k_vs_rmse, columns = ['K', 'RMSE'])\n",
    "    \n",
    "    return scores_df"
   ]
  },
  {
   "cell_type": "code",
   "execution_count": 261,
   "metadata": {},
   "outputs": [
    {
     "data": {
      "text/plain": [
       "<matplotlib.axes._subplots.AxesSubplot at 0x489b4ba8>"
      ]
     },
     "execution_count": 261,
     "metadata": {},
     "output_type": "execute_result"
    },
    {
     "data": {
      "image/png": "[encoded data removed]",
      "text/plain": [
       "<Figure size 432x288 with 1 Axes>"
      ]
     },
     "metadata": {},
     "output_type": "display_data"
    }
   ],
   "source": [
    "scores_df = find_optimize_value_of_k_SVD(user_assessment_scores, 'user_handle', 'assessment_tag', 'user_assessment_score')\n",
    "sns.lineplot(x = 'K', y = 'RMSE', data=scores_df)"
   ]
  },
  {
   "cell_type": "code",
   "execution_count": 268,
   "metadata": {},
   "outputs": [
    {
     "data": {
      "text/plain": [
       "<matplotlib.axes._subplots.AxesSubplot at 0x5c467160>"
      ]
     },
     "execution_count": 268,
     "metadata": {},
     "output_type": "execute_result"
    },
    {
     "data": {
      "image/png": "[encoded data removed]",
      "text/plain": [
       "<Figure size 432x288 with 1 Axes>"
      ]
     },
     "metadata": {},
     "output_type": "display_data"
    }
   ],
   "source": [
    "scores_df = find_optimize_value_of_k_SVD(cleaned_user_interest_df, 'user_handle', 'interest_tag', 'interest_val')\n",
    "sns.lineplot(x = 'K', y = 'RMSE', data=scores_df)"
   ]
  },
  {
   "cell_type": "code",
   "execution_count": 263,
   "metadata": {},
   "outputs": [
    {
     "data": {
      "text/plain": [
       "<matplotlib.axes._subplots.AxesSubplot at 0x52efd780>"
      ]
     },
     "execution_count": 263,
     "metadata": {},
     "output_type": "execute_result"
    },
    {
     "data": {
      "image/png": "[encoded data removed]",
      "text/plain": [
       "<Figure size 432x288 with 1 Axes>"
      ]
     },
     "metadata": {},
     "output_type": "display_data"
    }
   ],
   "source": [
    "scores_df = find_optimize_value_of_k_SVD(meaned_group_user_courses_tag, 'user_handle', 'course_tags', 'view_time_seconds')\n",
    "sns.lineplot(x = 'K', y = 'RMSE', data=scores_df)"
   ]
  },
  {
   "cell_type": "code",
   "execution_count": 265,
   "metadata": {},
   "outputs": [
    {
     "data": {
      "text/plain": [
       "<matplotlib.axes._subplots.AxesSubplot at 0x48739978>"
      ]
     },
     "execution_count": 265,
     "metadata": {},
     "output_type": "execute_result"
    },
    {
     "data": {
      "image/png": "[encoded data removed]",
      "text/plain": [
       "<Figure size 432x288 with 1 Axes>"
      ]
     },
     "metadata": {},
     "output_type": "display_data"
    }
   ],
   "source": [
    "scores_df = find_optimize_value_of_k_SVD(meaned_group_users_courses, 'user_handle', 'course_id', 'view_time_seconds')\n",
    "sns.lineplot(x = 'K', y = 'RMSE', data=scores_df)"
   ]
  },
  {
   "cell_type": "code",
   "execution_count": 309,
   "metadata": {},
   "outputs": [],
   "source": [
    "TOP_CUTOFF_USERS = 10\n",
    "\n",
    "# Class for similarity measure.\n",
    "from scipy import sparse\n",
    "from sklearn.metrics.pairwise import cosine_similarity\n",
    "\n",
    "class SimilarityMeasure:\n",
    "    def __initialize_matrix(self):\n",
    "        if self.__values_column is None:\n",
    "            self.__dataframe['temp_val'] = 1\n",
    "            self.__values_column = 'temp_val'\n",
    "        self.__scores_matrix = self.__dataframe.pivot(index = self.__index_column, columns= self.__columns_column, \n",
    "                                            values = self.__values_column)\n",
    "        self.__scores_matrix = self.__scores_matrix.fillna(0)\n",
    "        self.index_values = self.__scores_matrix.index.values\n",
    "        # we need reindexed to calclulate the cosine similarities\n",
    "        self.__reindexed_scores_matrix = self.__scores_matrix.copy()\n",
    "        self.__reindexed_scores_matrix.index = range(0, self.index_values.shape[0])\n",
    "        self.pearson_similarity_martix = None\n",
    "        self.cosine_similarities_matrix = None\n",
    "        self.__sliced = None\n",
    "        self.__knn_algo = None\n",
    "    \n",
    "    def calculate_pearson_similarity(self):\n",
    "        self.pearson_similarity_martix = self.__scores_matrix.T.corr(method = 'pearson')\n",
    "        print(\"Pearson similarity calculated!\")\n",
    "        \n",
    "    # Function that taken in user handle as input and outputs most similar users based on pearson.\n",
    "    def get_pearson_similar_users(self, user_handle):\n",
    "        if not self.isValidUser(user_handle):\n",
    "            return(\"Error - User not found!!\")\n",
    "        if self.pearson_similarity_martix is not None:\n",
    "            user_handle_scores = self.pearson_similarity_martix[user_handle]\n",
    "            similar_users = user_handle_scores.sort_values(ascending = False)[1:TOP_CUTOFF_USERS]\n",
    "            return similar_users\n",
    "        else :\n",
    "            print(\"Error - Pearson similarity not calculated!!!!\")\n",
    "    \n",
    "    # Function to calculate cosine similarity.\n",
    "    def calculate_cosine_similarity(self):\n",
    "        A_sparse = sparse.csr_matrix(self.__reindexed_scores_matrix)\n",
    "        self.cosine_similarities_matrix = cosine_similarity(A_sparse, dense_output = False)\n",
    "        print(\"Cosine similarity calculated!\")\n",
    "    \n",
    "    # Function that taken in user handle as input and outputs most similar users based on pearson.\n",
    "    def get_cosine_similar_users(self, user_handle):\n",
    "        if not self.isValidUser(user_handle):\n",
    "            return(\"Error - User not found!!\")\n",
    "        if self.cosine_similarities_matrix is not None:\n",
    "            idx = np.where(self.index_values == user_handle)\n",
    "            print(idx)\n",
    "            scores = pd.DataFrame(self.cosine_similarities_matrix[idx].T.toarray(), index = self.index_values)\n",
    "            similar_users = scores.sort_values(by=[0], ascending = False)[1:TOP_CUTOFF_USERS]\n",
    "            return similar_users\n",
    "        else :\n",
    "            print(\"Error - Cosine similarity not caclculated!!!!\")\n",
    "        \n",
    "    def calculate_svd_similarity(self, full_matrix = False, dim_size = 20):\n",
    "        scores_mean = np.asarray([(np.mean(self.__reindexed_scores_matrix, 1))]).T\n",
    "        normalised_mat = self.__reindexed_scores_matrix - scores_mean\n",
    "        A = normalised_mat.T\n",
    "        # Using svd\n",
    "        U, S, V = np.linalg.svd(A, full_matrices = full_matrix)\n",
    "        #Reducing the dimensions\n",
    "        self.__sliced = V.T[:, :dim_size]\n",
    "        self.__magnitude = np.sqrt(np.einsum('ij, ij -> i', self.__sliced, self.__sliced))\n",
    "        print(\"SVD similarity calculated!\")\n",
    "\n",
    "        \n",
    "    def get_svd_similar_users(self, user_handle):\n",
    "        if not self.isValidUser(user_handle):\n",
    "            return(\"Error - User not found!!\")\n",
    "        if self.__sliced is not None:\n",
    "            index = np.where(self.index_values == user_handle)[0][0] # we need index as int not array\n",
    "            user_row = self.__sliced[index, :]\n",
    "            similarity = np.dot(user_row, self.__sliced.T) / (self.__magnitude[index] * self.__magnitude)\n",
    "            scores = pd.DataFrame(similarity, index = self.index_values)\n",
    "            similar_users = scores.sort_values(by=[0], ascending = False)[1:TOP_CUTOFF_USERS]\n",
    "            return similar_users\n",
    "        else :\n",
    "            print(\"Error - SVD Similarity not calculated!!!!\")\n",
    "    \n",
    "    \n",
    "    # Function that taken in user handle as input and outputs most similar users based on pearson.\n",
    "    def train_KNN_BaseLine(self):\n",
    "        reader = Reader(rating_scale=(self.__dataframe[self.__values_column].min(), \n",
    "                                      self.__dataframe[self.__values_column].max()))\n",
    "        data = Dataset.load_from_df(self.__dataframe[[self.__index_column, self.__columns_column, \n",
    "                                                      self.__values_column]], reader) \n",
    "        sim_options = {'name': 'pearson_baseline'}\n",
    "        self.__knn_algo = KNNWithMeans(sim_options)\n",
    "        # Train the algorithm on the trainset, and predict ratings for the testset\n",
    "        self.__knn_algo.fit(data.build_full_trainset())\n",
    "    \n",
    "    def get_KNN_similar_users(self, user_handle):\n",
    "        if not self.isValidUser(user_handle):\n",
    "            return(\"Error - User not found!!\")\n",
    "        if self.__knn_algo is not None:\n",
    "            index = np.where(self.index_values == user_handle)[0][0] # we need index as int not array\n",
    "            index_neighbor_users = self.__knn_algo.get_neighbors(index, k = TOP_CUTOFF_USERS)\n",
    "            print(index_neighbor_users)\n",
    "            print(self.__knn_algo.sim[index, index_neighbor_users])\n",
    "            \n",
    "            scores = pd.DataFrame(self.__knn_algo.sim[index].T, index = self.index_values)\n",
    "            similar_users = scores.sort_values(by=[0], ascending = False)[1:TOP_CUTOFF_USERS]\n",
    "            return similar_users\n",
    "        else :\n",
    "            print(\"Error - SVD Similarity not calculated!!!!\")\n",
    "    \n",
    "    def isValidUser(self, user_handle):\n",
    "        return ((self.index_values == user_handle).sum() > 0)\n",
    "    \n",
    "    def __init__(self, parameters):\n",
    "        self.__dataframe = parameters['dataframe'].copy()\n",
    "        self.__index_column = parameters['index_column']\n",
    "        # The column in dataframe which will be used to created columns in matrix\n",
    "        self.__columns_column = parameters['columns_column']\n",
    "        if 'values_column' in parameters:\n",
    "            self.__values_column = parameters['values_column']\n",
    "        else:\n",
    "            self.__values_column = None\n",
    "        self.__initialize_matrix()"
   ]
  },
  {
   "cell_type": "code",
   "execution_count": 310,
   "metadata": {},
   "outputs": [
    {
     "name": "stdout",
     "output_type": "stream",
     "text": [
      "Computing the msd similarity matrix...\n",
      "Done computing similarity matrix.\n",
      "Cosine similarity calculated!\n",
      "SVD similarity calculated!\n"
     ]
    }
   ],
   "source": [
    "user_assessment_similarity_measure = SimilarityMeasure({\n",
    "                                'dataframe' : user_assessment_scores,\n",
    "                                'index_column' : 'user_handle', 'columns_column' : 'assessment_tag',\n",
    "                                'values_column' : 'user_assessment_score'\n",
    "                                })\n",
    "user_assessment_similarity_measure.train_KNN_BaseLine()\n",
    "user_assessment_similarity_measure.calculate_cosine_similarity()\n",
    "user_assessment_similarity_measure.calculate_svd_similarity()"
   ]
  },
  {
   "cell_type": "code",
   "execution_count": 311,
   "metadata": {},
   "outputs": [
    {
     "name": "stdout",
     "output_type": "stream",
     "text": [
      "(array([2752], dtype=int64),)\n",
      "             0\n",
      "9460  0.841721\n",
      "8412  0.789517\n",
      "5236  0.788519\n",
      "5694  0.766058\n",
      "1494  0.763504\n",
      "4048  0.729360\n",
      "840   0.709927\n",
      "9177  0.703223\n",
      "7997  0.696422\n",
      "             0\n",
      "8412  0.872304\n",
      "5694  0.792410\n",
      "5236  0.774964\n",
      "9460  0.767698\n",
      "840   0.758704\n",
      "9177  0.752271\n",
      "1494  0.748666\n",
      "7246  0.746476\n",
      "7997  0.744728\n",
      "[435, 1890, 2448, 3072, 50, 52, 1011, 1057, 1741, 1776]\n",
      "[1.  1.  1.  1.  0.5 0.5 0.5 0.5 0.5 0.5]\n",
      "        0\n",
      "988   1.0\n",
      "2233  1.0\n",
      "8074  1.0\n",
      "6395  1.0\n",
      "9467  0.5\n",
      "6060  0.5\n",
      "1095  0.5\n",
      "1097  0.5\n",
      "9872  0.5\n"
     ]
    },
    {
     "name": "stderr",
     "output_type": "stream",
     "text": [
      "C:\\Python27\\lib\\site-packages\\ipykernel_launcher.py:76: RuntimeWarning: invalid value encountered in divide\n"
     ]
    }
   ],
   "source": [
    "print(user_assessment_similarity_measure.get_cosine_similar_users('8887'))\n",
    "print(user_assessment_similarity_measure.get_svd_similar_users('8887'))\n",
    "print(user_assessment_similarity_measure.get_KNN_similar_users('8887'))"
   ]
  }
 ],
 "metadata": {
  "kernelspec": {
   "display_name": "Python 2",
   "language": "python",
   "name": "python2"
  },
  "language_info": {
   "codemirror_mode": {
    "name": "ipython",
    "version": 2
   },
   "file_extension": ".py",
   "mimetype": "text/x-python",
   "name": "python",
   "nbconvert_exporter": "python",
   "pygments_lexer": "ipython2",
   "version": "2.7.15"
  }
 },
 "nbformat": 4,
 "nbformat_minor": 1
}
